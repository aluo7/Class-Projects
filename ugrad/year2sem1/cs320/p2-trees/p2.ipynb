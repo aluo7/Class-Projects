{
 "cells": [
  {
   "cell_type": "code",
   "execution_count": 1,
   "id": "c0e41317-f04c-4ee4-bd5c-471cecc36600",
   "metadata": {},
   "outputs": [],
   "source": [
    "# project: p2\n",
    "# submitter: aluo7@wisc.edu\n",
    "# partner: none\n",
    "# hours: 6"
   ]
  },
  {
   "cell_type": "code",
   "execution_count": 2,
   "id": "871d60fa-72a4-426e-9d52-a1b877e6e384",
   "metadata": {},
   "outputs": [],
   "source": [
    "import pandas as pd\n",
    "import loans\n",
    "import search\n",
    "from time import time"
   ]
  },
  {
   "cell_type": "code",
   "execution_count": 3,
   "id": "ee79b51f-7bc4-46f0-8021-29b301f26978",
   "metadata": {},
   "outputs": [],
   "source": [
    "%load_ext autoreload\n",
    "%autoreload 2"
   ]
  },
  {
   "cell_type": "code",
   "execution_count": 4,
   "id": "1c265e39-c907-46ec-a4ee-e3bb77d0810b",
   "metadata": {},
   "outputs": [
    {
     "data": {
      "text/plain": [
       "{'American Indian or Alaska Native', 'Asian', 'Black or African American'}"
      ]
     },
     "execution_count": 4,
     "metadata": {},
     "output_type": "execute_result"
    }
   ],
   "source": [
    "applicant = loans.Applicant(\"<25\", [\"1\", \"2\", \"3\"])\n",
    "applicant.race"
   ]
  },
  {
   "cell_type": "code",
   "execution_count": 5,
   "id": "6a51d468-6a6f-4402-9488-b60eda9f3c3c",
   "metadata": {},
   "outputs": [
    {
     "data": {
      "text/plain": [
       "Applicant('<25', ['American Indian or Alaska Native', 'Asian', 'Black or African American'])"
      ]
     },
     "execution_count": 5,
     "metadata": {},
     "output_type": "execute_result"
    }
   ],
   "source": [
    "applicant"
   ]
  },
  {
   "cell_type": "code",
   "execution_count": 6,
   "id": "74ba79e5-2a60-44a8-98ff-a82eed05e173",
   "metadata": {},
   "outputs": [
    {
     "data": {
      "text/plain": [
       "25"
      ]
     },
     "execution_count": 6,
     "metadata": {},
     "output_type": "execute_result"
    }
   ],
   "source": [
    "applicant.lower_age()"
   ]
  },
  {
   "cell_type": "code",
   "execution_count": 7,
   "id": "b35d13cd-2cce-4adc-80ec-0de6bda4d47e",
   "metadata": {},
   "outputs": [
    {
     "data": {
      "text/plain": [
       "[Applicant('20-30', ['American Indian or Alaska Native', 'Black or African American']),\n",
       " Applicant('25', ['White']),\n",
       " Applicant('35-44', ['Chinese']),\n",
       " Applicant('75', ['Other Pacific Islander', 'Samoan'])]"
      ]
     },
     "execution_count": 7,
     "metadata": {},
     "output_type": "execute_result"
    }
   ],
   "source": [
    "sorted([\n",
    "    loans.Applicant(\">75\", [\"43\", \"44\"]),\n",
    "    loans.Applicant(\"20-30\", [\"1\", \"3\"]),\n",
    "    loans.Applicant(\"35-44\", [\"22\"]),\n",
    "    loans.Applicant(\"<25\", [\"5\"]),\n",
    "])"
   ]
  },
  {
   "cell_type": "code",
   "execution_count": 8,
   "id": "48351f4f-ec5c-4282-aa2c-9901b5f7d4e6",
   "metadata": {},
   "outputs": [],
   "source": [
    "values = {'activity_year': '2020', 'lei': '549300FX7K8PTEQUU487', 'derived_msa-md': '31540', 'state_code': 'WI',\n",
    "         'county_code': '55025', 'census_tract': '55025002402', 'conforming_loan_limit': 'C',\n",
    "         'derived_loan_product_type': 'Conventional:First Lien',\n",
    "         'derived_dwelling_category': 'Single Family (1-4 Units):Site-Built',\n",
    "         'derived_ethnicity': 'Not Hispanic or Latino', 'derived_race': 'White', 'derived_sex': 'Male',\n",
    "         'action_taken': '3', 'purchaser_type': '0', 'preapproval': '2', 'loan_type': '1', 'loan_purpose': '4',\n",
    "         'lien_status': '1', 'reverse_mortgage': '2', 'open-end_line_of_credit': '1',\n",
    "         'business_or_commercial_purpose': '2', 'loan_amount': '225000.0', 'loan_to_value_ratio': '78.671',\n",
    "         'interest_rate': '3.000', 'rate_spread': 'NA', 'hoepa_status': '3', 'total_loan_costs': 'NA',\n",
    "         'total_points_and_fees': 'NA', 'origination_charges': 'NA', 'discount_points': 'NA',\n",
    "         'lender_credits': 'NA', 'loan_term': '360', 'prepayment_penalty_term': 'NA', 'intro_rate_period': '1',\n",
    "         'negative_amortization': '2', 'interest_only_payment': '2', 'balloon_payment': '2',\n",
    "         'other_nonamortizing_features': '2', 'property_value': '285000', 'construction_method': '1',\n",
    "         'occupancy_type': '1', 'manufactured_home_secured_property_type': '3',\n",
    "         'manufactured_home_land_property_interest': '5', 'total_units': '1', 'multifamily_affordable_units': 'NA',\n",
    "         'income': '0', 'debt_to_income_ratio': '>60%', 'applicant_credit_score_type': '1',\n",
    "         'co-applicant_credit_score_type': '10', 'applicant_ethnicity-1': '2', 'applicant_ethnicity-2': '',\n",
    "         'applicant_ethnicity-3': '', 'applicant_ethnicity-4': '', 'applicant_ethnicity-5': '',\n",
    "         'co-applicant_ethnicity-1': '5', 'co-applicant_ethnicity-2': '', 'co-applicant_ethnicity-3': '',\n",
    "         'co-applicant_ethnicity-4': '', 'co-applicant_ethnicity-5': '', 'applicant_ethnicity_observed': '2',\n",
    "         'co-applicant_ethnicity_observed': '4', 'applicant_race-1': '5', 'applicant_race-2': '',\n",
    "         'applicant_race-3': '', 'applicant_race-4': '', 'applicant_race-5': '', 'co-applicant_race-1': '8',\n",
    "         'co-applicant_race-2': '', 'co-applicant_race-3': '', 'co-applicant_race-4': '', 'co-applicant_race-5': '',\n",
    "         'applicant_race_observed': '2', 'co-applicant_race_observed': '4', 'applicant_sex': '1',\n",
    "         'co-applicant_sex': '5', 'applicant_sex_observed': '2', 'co-applicant_sex_observed': '4',\n",
    "         'applicant_age': '55-64', 'co-applicant_age': '9999', 'applicant_age_above_62': 'Yes',\n",
    "         'co-applicant_age_above_62': 'NA', 'submission_of_application': '1', 'initially_payable_to_institution': '1',\n",
    "         'aus-1': '6', 'aus-2': '', 'aus-3': '', 'aus-4': '', 'aus-5': '', 'denial_reason-1': '1',\n",
    "         'denial_reason-2': '', 'denial_reason-3': '', 'denial_reason-4': '', 'tract_population': '3572',\n",
    "         'tract_minority_population_percent': '41.1499999999999986', 'ffiec_msa_md_median_family_income': '96600',\n",
    "         'tract_to_msa_income_percentage': '64', 'tract_owner_occupied_units': '812',\n",
    "         'tract_one_to_four_family_homes': '910', 'tract_median_age_of_housing_units': '45'}"
   ]
  },
  {
   "cell_type": "code",
   "execution_count": 9,
   "id": "fac41eb8-a566-4064-8471-85f235cb9e73",
   "metadata": {},
   "outputs": [
    {
     "data": {
      "text/plain": [
       "<Loan: 3.0% on $285000.0 with 1 applicant(s)>"
      ]
     },
     "execution_count": 9,
     "metadata": {},
     "output_type": "execute_result"
    }
   ],
   "source": [
    "loan = loans.Loan(values)\n",
    "loan"
   ]
  },
  {
   "cell_type": "code",
   "execution_count": 10,
   "id": "5555f3ee-d9cc-47fa-848c-a300aab07b9a",
   "metadata": {},
   "outputs": [
    {
     "name": "stdout",
     "output_type": "stream",
     "text": [
      "225000.0\n",
      "211750.0\n",
      "198102.5\n",
      "184045.575\n",
      "169566.94225000002\n",
      "154653.95051750002\n",
      "139293.56903302504\n",
      "123472.3761040158\n",
      "107176.54738713628\n",
      "90391.84380875036\n",
      "73103.59912301287\n",
      "55296.70709670326\n",
      "36955.60830960436\n",
      "18064.27655889249\n"
     ]
    }
   ],
   "source": [
    "for amt in loan.yearly_amounts(20000):\n",
    "    print(amt)"
   ]
  },
  {
   "cell_type": "code",
   "execution_count": 11,
   "id": "649964c8-c9ab-493b-b2aa-77a786afdbe0",
   "metadata": {},
   "outputs": [],
   "source": [
    "fhb = loans.Bank(\"First Home Bank\")"
   ]
  },
  {
   "cell_type": "code",
   "execution_count": 12,
   "id": "21dc0882-c65a-49c1-aecc-c9968d88a0d7",
   "metadata": {},
   "outputs": [
    {
     "data": {
      "text/plain": [
       "2.962962962962963"
      ]
     },
     "execution_count": 12,
     "metadata": {},
     "output_type": "execute_result"
    }
   ],
   "source": [
    "#Q1\n",
    "tot = 0\n",
    "size = 0\n",
    "for x in fhb.loans:\n",
    "    if x.interest_rate != -1:\n",
    "        tot += x.interest_rate\n",
    "        size += 1\n",
    "    else:\n",
    "        pass\n",
    "tot / size"
   ]
  },
  {
   "cell_type": "code",
   "execution_count": 13,
   "id": "df9bf611-950e-4942-892f-959877c3e975",
   "metadata": {},
   "outputs": [
    {
     "data": {
      "text/plain": [
       "1.5777777777777777"
      ]
     },
     "execution_count": 13,
     "metadata": {},
     "output_type": "execute_result"
    }
   ],
   "source": [
    "#Q2\n",
    "tot = 0\n",
    "for x in fhb.loans:\n",
    "    tot += len(x.applicants)\n",
    "tot / len(fhb.loans)"
   ]
  },
  {
   "cell_type": "code",
   "execution_count": 14,
   "id": "11c66ffa-bfa3-4d83-a6c5-34564463fb17",
   "metadata": {},
   "outputs": [
    {
     "data": {
      "text/plain": [
       "{'65-74': 21, '45-54': 21, '>74': 5, '25-34': 4, '35-44': 13, '55-64': 7}"
      ]
     },
     "execution_count": 14,
     "metadata": {},
     "output_type": "execute_result"
    }
   ],
   "source": [
    "#Q3\n",
    "dist = {}\n",
    "for x in fhb.loans:\n",
    "    for y in x.applicants:\n",
    "        if y.age in dist:\n",
    "            dist[y.age] += 1\n",
    "        else:\n",
    "            dist[y.age] = 1\n",
    "dist"
   ]
  },
  {
   "cell_type": "code",
   "execution_count": 15,
   "id": "8997ea55-3b8a-46c9-95d8-efa8b58b6174",
   "metadata": {},
   "outputs": [],
   "source": [
    "fhb_tree = search.BST()\n",
    "for x in fhb.loans:\n",
    "    fhb_tree.add(x.interest_rate, x)"
   ]
  },
  {
   "cell_type": "code",
   "execution_count": 16,
   "id": "f91890ae-1996-4dfa-9e4b-0c14efe9cb7a",
   "metadata": {},
   "outputs": [
    {
     "data": {
      "text/plain": [
       "18"
      ]
     },
     "execution_count": 16,
     "metadata": {},
     "output_type": "execute_result"
    }
   ],
   "source": [
    "#Q4\n",
    "len(fhb_tree[-1])"
   ]
  },
  {
   "cell_type": "code",
   "execution_count": 17,
   "id": "a7d63328-968c-4b02-8f02-7b7c8dd4bb66",
   "metadata": {},
   "outputs": [
    {
     "data": {
      "text/plain": [
       "9"
      ]
     },
     "execution_count": 17,
     "metadata": {},
     "output_type": "execute_result"
    }
   ],
   "source": [
    "#Q5\n",
    "fhb_tree.root.height()"
   ]
  },
  {
   "cell_type": "code",
   "execution_count": 18,
   "id": "138cc6a4-dd83-485d-a8a8-f7e584ab0e66",
   "metadata": {},
   "outputs": [],
   "source": [
    "uwcu = loans.Bank(\"University of Wisconsin Credit Union\")"
   ]
  },
  {
   "cell_type": "code",
   "execution_count": 19,
   "id": "6d28a1e1-08e3-45e5-a1a4-7f4c72cc73d2",
   "metadata": {},
   "outputs": [
    {
     "data": {
      "image/png": "[encoded data removed]",
      "text/plain": [
       "<Figure size 640x480 with 1 Axes>"
      ]
     },
     "metadata": {},
     "output_type": "display_data"
    }
   ],
   "source": [
    "#Q6\n",
    "uwcu_tree = search.BST()\n",
    "times = {}\n",
    "\n",
    "t0 =time()\n",
    "for i, loan in enumerate(uwcu):\n",
    "    uwcu_tree.add(loan.interest_rate, loan)\n",
    "    times[i+1] = time() - t0\n",
    "    \n",
    "ax = (pd.Series(times)*1000).plot.line()"
   ]
  },
  {
   "cell_type": "code",
   "execution_count": 20,
   "id": "2de90fe3-91b7-446a-a18e-0e8a4f7090b3",
   "metadata": {},
   "outputs": [
    {
     "data": {
      "text/plain": [
       "<AxesSubplot:>"
      ]
     },
     "execution_count": 20,
     "metadata": {},
     "output_type": "execute_result"
    },
    {
     "data": {
      "image/png": "[encoded data removed]",
      "text/plain": [
       "<Figure size 640x480 with 1 Axes>"
      ]
     },
     "metadata": {},
     "output_type": "display_data"
    }
   ],
   "source": [
    "#Q7\n",
    "d_search_len = {}\n",
    "\n",
    "count = 0\n",
    "t0 = time()\n",
    "for x in uwcu.loans:\n",
    "    if x.interest_rate == -1:\n",
    "        count += 1\n",
    "t1 = time()\n",
    "d_search_len[\"loop\"] = (t1-t0) * 1e3\n",
    "\n",
    "t0 = time()\n",
    "len(uwcu_tree[-1])\n",
    "t1 = time()\n",
    "d_search_len[\"bst\"] = (t1-t0) * 1e3\n",
    "\n",
    "pd.Series(d_search_len).plot.bar()"
   ]
  },
  {
   "cell_type": "code",
   "execution_count": 21,
   "id": "0d92ff1a-bf2b-40be-a9dc-0debd83b79cb",
   "metadata": {},
   "outputs": [
    {
     "data": {
      "text/plain": [
       "<AxesSubplot:>"
      ]
     },
     "execution_count": 21,
     "metadata": {},
     "output_type": "execute_result"
    },
    {
     "data": {
      "image/png": "[encoded data removed]",
      "text/plain": [
       "<Figure size 640x480 with 1 Axes>"
      ]
     },
     "metadata": {},
     "output_type": "display_data"
    }
   ],
   "source": [
    "#Q8\n",
    "race_selections = {}\n",
    "for x in uwcu.loans:\n",
    "    for y in x.applicants:\n",
    "        if len(y.race) in race_selections:\n",
    "            race_selections[len(y.race)] += 1\n",
    "        else:\n",
    "            race_selections[len(y.race)] = 1\n",
    "\n",
    "pd.Series(race_selections).sort_index().plot.bar()"
   ]
  },
  {
   "cell_type": "code",
   "execution_count": 22,
   "id": "d133f0d7-9355-451b-961f-0aa08cf9a5c0",
   "metadata": {},
   "outputs": [
    {
     "data": {
      "text/plain": [
       "9"
      ]
     },
     "execution_count": 22,
     "metadata": {},
     "output_type": "execute_result"
    }
   ],
   "source": [
    "#Q9\n",
    "uwcu_tree.root.leaf()"
   ]
  },
  {
   "cell_type": "code",
   "execution_count": 23,
   "id": "bbfaa757-ae00-4456-867b-c384428874e0",
   "metadata": {},
   "outputs": [
    {
     "data": {
      "text/plain": [
       "6.99"
      ]
     },
     "execution_count": 23,
     "metadata": {},
     "output_type": "execute_result"
    }
   ],
   "source": [
    "#Q10\n",
    "uwcu_tree.root.second_highest()"
   ]
  }
 ],
 "metadata": {
  "kernelspec": {
   "display_name": "Python 3 (ipykernel)",
   "language": "python",
   "name": "python3"
  },
  "language_info": {
   "codemirror_mode": {
    "name": "ipython",
    "version": 3
   },
   "file_extension": ".py",
   "mimetype": "text/x-python",
   "name": "python",
   "nbconvert_exporter": "python",
   "pygments_lexer": "ipython3",
   "version": "3.10.4"
  }
 },
 "nbformat": 4,
 "nbformat_minor": 5
}
