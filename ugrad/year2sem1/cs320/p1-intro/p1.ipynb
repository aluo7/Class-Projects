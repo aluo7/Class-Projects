{
 "cells": [
  {
   "cell_type": "code",
   "execution_count": 1,
   "id": "99f755c0-a10a-43d3-9b71-8c22afbcda53",
   "metadata": {},
   "outputs": [],
   "source": [
    "# project: p1\n",
    "# submitter: aluo7\n",
    "# partner: none\n",
    "# hours: 15"
   ]
  },
  {
   "cell_type": "code",
   "execution_count": 2,
   "id": "94b67328-9a2c-4cfc-a61b-f802cbd8dc4d",
   "metadata": {},
   "outputs": [],
   "source": [
    "# all imports\n",
    "import copy\n",
    "import pandas as pd\n",
    "import os\n",
    "from subprocess import check_output, CalledProcessError, STDOUT\n",
    "from time import time\n",
    "import numpy as np\n",
    "import json"
   ]
  },
  {
   "cell_type": "code",
   "execution_count": 3,
   "id": "c4ea3e83-b3bc-43ea-b2d8-2a74f69a948e",
   "metadata": {},
   "outputs": [
    {
     "data": {
      "text/plain": [
       "float"
      ]
     },
     "execution_count": 3,
     "metadata": {},
     "output_type": "execute_result"
    }
   ],
   "source": [
    "#Q1\n",
    "type(7/2)"
   ]
  },
  {
   "cell_type": "code",
   "execution_count": 4,
   "id": "2a96936b-e421-4a46-961f-b039b73258bb",
   "metadata": {},
   "outputs": [
    {
     "data": {
      "text/plain": [
       "True"
      ]
     },
     "execution_count": 4,
     "metadata": {},
     "output_type": "execute_result"
    }
   ],
   "source": [
    "#Q2\n",
    "x = 4\n",
    "maximum = 10\n",
    "minimum = 5\n",
    "error = (x <= 5 or x >= 10) # True if x is outside the minimum-to-maximum range\n",
    "error"
   ]
  },
  {
   "cell_type": "code",
   "execution_count": 5,
   "id": "e84853da-cf62-4758-9ae7-1727556cad8e",
   "metadata": {},
   "outputs": [
    {
     "data": {
      "text/plain": [
       "True"
      ]
     },
     "execution_count": 5,
     "metadata": {},
     "output_type": "execute_result"
    }
   ],
   "source": [
    "#Q3\n",
    "word = \"KAFKAESQUE\"\n",
    "suffix_match = (word.lower()[-5:] == \"esque\") # .endswith(...) method not allowed for this question! (practice slicing)\n",
    "suffix_match"
   ]
  },
  {
   "cell_type": "code",
   "execution_count": 6,
   "id": "150f9e5c-91fe-4bc9-b84a-65febcb2c78e",
   "metadata": {},
   "outputs": [],
   "source": [
    "def add(x = 1, y = 1):\n",
    "    return x+y"
   ]
  },
  {
   "cell_type": "code",
   "execution_count": 7,
   "id": "8bdfeae1-0708-460b-8266-0515c991b402",
   "metadata": {},
   "outputs": [
    {
     "data": {
      "text/plain": [
       "7"
      ]
     },
     "execution_count": 7,
     "metadata": {},
     "output_type": "execute_result"
    }
   ],
   "source": [
    "#Q4\n",
    "add(3, 4)"
   ]
  },
  {
   "cell_type": "code",
   "execution_count": 8,
   "id": "7f06320a-8453-4f1e-bb01-5709497e814c",
   "metadata": {},
   "outputs": [
    {
     "data": {
      "text/plain": [
       "10"
      ]
     },
     "execution_count": 8,
     "metadata": {},
     "output_type": "execute_result"
    }
   ],
   "source": [
    "#Q5\n",
    "add(9)"
   ]
  },
  {
   "cell_type": "code",
   "execution_count": 9,
   "id": "19dc800a-c819-4878-aa5a-b6f31011bb09",
   "metadata": {},
   "outputs": [
    {
     "data": {
      "text/plain": [
       "'positive'"
      ]
     },
     "execution_count": 9,
     "metadata": {},
     "output_type": "execute_result"
    }
   ],
   "source": [
    "#Q6\n",
    "x = 4\n",
    "if x < 0:\n",
    "    status = \"negative\"\n",
    "elif x > 0:\n",
    "    status = \"positive\"\n",
    "else:\n",
    "    status = \"zero\"\n",
    "status"
   ]
  },
  {
   "cell_type": "code",
   "execution_count": 10,
   "id": "088826af-04e2-4fbc-90bc-7e4fb8f8a737",
   "metadata": {},
   "outputs": [
    {
     "name": "stdout",
     "output_type": "stream",
     "text": [
      "3\n",
      "4\n",
      "1\n",
      "6\n"
     ]
    }
   ],
   "source": [
    "nums = [3, 4, 1, 6]\n",
    "for x in nums:\n",
    "    print(x)"
   ]
  },
  {
   "cell_type": "code",
   "execution_count": 11,
   "id": "a15f2afb-1338-4e29-b9e9-3253163e8747",
   "metadata": {},
   "outputs": [],
   "source": [
    "def smart_count(nums):\n",
    "    sum = 0\n",
    "    for x in nums:\n",
    "        if x > 10:\n",
    "            continue\n",
    "        if x < 0:\n",
    "            break\n",
    "        else:\n",
    "            sum += x\n",
    "    return sum"
   ]
  },
  {
   "cell_type": "code",
   "execution_count": 12,
   "id": "5359e57e-5534-4dec-8ad3-74ee05c93045",
   "metadata": {},
   "outputs": [
    {
     "data": {
      "text/plain": [
       "14"
      ]
     },
     "execution_count": 12,
     "metadata": {},
     "output_type": "execute_result"
    }
   ],
   "source": [
    "#Q7\n",
    "smart_count(nums)"
   ]
  },
  {
   "cell_type": "code",
   "execution_count": 13,
   "id": "1f176d19-2a64-4ca3-b583-9ed54162d815",
   "metadata": {},
   "outputs": [
    {
     "data": {
      "text/plain": [
       "6"
      ]
     },
     "execution_count": 13,
     "metadata": {},
     "output_type": "execute_result"
    }
   ],
   "source": [
    "#Q8\n",
    "smart_count([2, 1, 11, 3, 15, -1, 8, 2])"
   ]
  },
  {
   "cell_type": "code",
   "execution_count": 14,
   "id": "4f23f971-b965-4a90-ad09-bdf510fa652f",
   "metadata": {},
   "outputs": [],
   "source": [
    "header = [\"A\", \"B\", \"C\"]\n",
    "\n",
    "coord1 = {\"x\": 8, \"y\": 5}\n",
    "coord2 = {\"x\": 9, \"y\": 2}\n",
    "coord3 = {\"x\": 3, \"y\": 1}\n",
    "\n",
    "rows = [\n",
    "    [1, 6, coord1],\n",
    "    [3, 4, coord2],\n",
    "    [5, 2, coord3],\n",
    "]"
   ]
  },
  {
   "cell_type": "code",
   "execution_count": 15,
   "id": "21cac1ea-05a4-4101-a27d-9ef65b067604",
   "metadata": {},
   "outputs": [
    {
     "data": {
      "text/plain": [
       "[[1, 6, {'x': 8, 'y': 5}],\n",
       " [3, 4, {'x': 9, 'y': 2}],\n",
       " [5, 2, {'x': 3, 'y': 1, 'z': 3.14}]]"
      ]
     },
     "execution_count": 15,
     "metadata": {},
     "output_type": "execute_result"
    }
   ],
   "source": [
    "#Q9\n",
    "coord3[\"z\"] = 3.14\n",
    "rows"
   ]
  },
  {
   "cell_type": "code",
   "execution_count": 16,
   "id": "596930a4-d0b8-49b1-a64a-a4d3f8d233d1",
   "metadata": {},
   "outputs": [
    {
     "data": {
      "text/plain": [
       "8"
      ]
     },
     "execution_count": 16,
     "metadata": {},
     "output_type": "execute_result"
    }
   ],
   "source": [
    "#Q10\n",
    "rows[0][-1][\"x\"]"
   ]
  },
  {
   "cell_type": "code",
   "execution_count": 17,
   "id": "c23a0875-7df4-43df-986b-cfaf268ebe96",
   "metadata": {},
   "outputs": [
    {
     "data": {
      "text/plain": [
       "[[1, 6, {'x': 8, 'y': 5}],\n",
       " [3, 9999, {'x': 9, 'y': 2}],\n",
       " [5, 2, {'x': 3, 'y': 1, 'z': 3.14}]]"
      ]
     },
     "execution_count": 17,
     "metadata": {},
     "output_type": "execute_result"
    }
   ],
   "source": [
    "#Q11\n",
    "v2 = copy.copy(rows)\n",
    "v2[0] = 8888    # first change\n",
    "v2[1][1] = 9999 # second change\n",
    "rows"
   ]
  },
  {
   "cell_type": "code",
   "execution_count": 18,
   "id": "b8837e59-2102-4d7f-b929-22b0b0f2f313",
   "metadata": {},
   "outputs": [
    {
     "data": {
      "text/plain": [
       "10007"
      ]
     },
     "execution_count": 18,
     "metadata": {},
     "output_type": "execute_result"
    }
   ],
   "source": [
    "#Q12\n",
    "sum = 0\n",
    "for x in range(len(rows)):\n",
    "    sum += rows[x][header.index(\"B\")]\n",
    "sum"
   ]
  },
  {
   "cell_type": "code",
   "execution_count": 19,
   "id": "4555f474-4703-44f8-b31a-f742cd472d13",
   "metadata": {},
   "outputs": [
    {
     "data": {
      "text/plain": [
       "[[5, 2, {'x': 3, 'y': 1, 'z': 3.14}],\n",
       " [1, 6, {'x': 8, 'y': 5}],\n",
       " [3, 9999, {'x': 9, 'y': 2}]]"
      ]
     },
     "execution_count": 19,
     "metadata": {},
     "output_type": "execute_result"
    }
   ],
   "source": [
    "#Q13\n",
    "rows.sort(key=lambda row: row[header.index(\"B\")])\n",
    "rows"
   ]
  },
  {
   "cell_type": "code",
   "execution_count": 20,
   "id": "284e00b1-64f4-4aa8-be9a-27784cbe7257",
   "metadata": {},
   "outputs": [
    {
     "data": {
      "text/plain": [
       "413.73132225516"
      ]
     },
     "execution_count": 20,
     "metadata": {},
     "output_type": "execute_result"
    }
   ],
   "source": [
    "#Q14\n",
    "f = open(\"usd.json\")\n",
    "data = json.load(f)\n",
    "f.close()\n",
    "\n",
    "dollars = 400\n",
    "dollars * data[\"eur\"][\"rate\"]"
   ]
  },
  {
   "cell_type": "code",
   "execution_count": 21,
   "id": "6d6c75bf-6ade-47f7-baeb-6a8c891b15a2",
   "metadata": {},
   "outputs": [],
   "source": [
    "def divide(x, y):\n",
    "    try:\n",
    "        return x/y\n",
    "    except ZeroDivisionError:\n",
    "        return float(\"nan\")"
   ]
  },
  {
   "cell_type": "code",
   "execution_count": 22,
   "id": "553492e7-fe7b-4558-97b5-4275a8ec7367",
   "metadata": {},
   "outputs": [
    {
     "data": {
      "text/plain": [
       "1.5"
      ]
     },
     "execution_count": 22,
     "metadata": {},
     "output_type": "execute_result"
    }
   ],
   "source": [
    "#Q15\n",
    "divide(3, 2)"
   ]
  },
  {
   "cell_type": "code",
   "execution_count": 23,
   "id": "3caad636-8656-4110-8ce9-92766262c82e",
   "metadata": {},
   "outputs": [
    {
     "data": {
      "text/plain": [
       "nan"
      ]
     },
     "execution_count": 23,
     "metadata": {},
     "output_type": "execute_result"
    }
   ],
   "source": [
    "#Q16\n",
    "divide(-3, 0)"
   ]
  },
  {
   "cell_type": "code",
   "execution_count": 24,
   "id": "171cd066-a279-4f4a-8c1f-f420e60a0ea8",
   "metadata": {},
   "outputs": [],
   "source": [
    "years = {}\n",
    "for year in os.listdir(\"home-computers\"):\n",
    "    if year == \".ipynb_checkpoints\":\n",
    "        pass\n",
    "    else:\n",
    "        years[int(year[7:11])] = pd.DataFrame.set_index(pd.read_csv(\"../../f22/p1/home-computers/\" + year, skiprows = 1), \"Geographic Area Name\")"
   ]
  },
  {
   "cell_type": "code",
   "execution_count": 25,
   "id": "7afd57be-1ab5-4071-b8af-5dc752b84b42",
   "metadata": {},
   "outputs": [
    {
     "data": {
      "text/plain": [
       "[2013, 2014, 2015, 2016, 2017, 2018]"
      ]
     },
     "execution_count": 25,
     "metadata": {},
     "output_type": "execute_result"
    }
   ],
   "source": [
    "#Q17\n",
    "sorted(list(years.keys()))"
   ]
  },
  {
   "cell_type": "code",
   "execution_count": 26,
   "id": "9b724af9-f2e2-4c0a-8483-9ae8601cf7f5",
   "metadata": {},
   "outputs": [
    {
     "data": {
      "text/plain": [
       "2371960"
      ]
     },
     "execution_count": 26,
     "metadata": {},
     "output_type": "execute_result"
    }
   ],
   "source": [
    "#Q18\n",
    "df = years[2018].loc[\"Wisconsin\", \"Estimate!!Total\"]\n",
    "df"
   ]
  },
  {
   "cell_type": "code",
   "execution_count": 27,
   "id": "6c40961e-caca-410f-b2cf-a2f5858c7033",
   "metadata": {},
   "outputs": [
    {
     "data": {
      "text/plain": [
       "10285814"
      ]
     },
     "execution_count": 27,
     "metadata": {},
     "output_type": "execute_result"
    }
   ],
   "source": [
    "#Q19\n",
    "df_sum = years[2018][\"Estimate!!Total!!No Computer\"].sum()\n",
    "df_sum"
   ]
  },
  {
   "cell_type": "code",
   "execution_count": 28,
   "id": "77e07d34-f5dd-4b11-b343-99ac0e75a59f",
   "metadata": {},
   "outputs": [
    {
     "data": {
      "text/plain": [
       "0.12375641594322287"
      ]
     },
     "execution_count": 28,
     "metadata": {},
     "output_type": "execute_result"
    }
   ],
   "source": [
    "#Q20\n",
    "df_max = (years[2018][\"Margin of Error!!Total!!No Computer\"] / years[2018][\"Estimate!!Total!!No Computer\"]).max()\n",
    "df_max"
   ]
  },
  {
   "cell_type": "code",
   "execution_count": 29,
   "id": "19769cd1-9f01-46e1-a827-fc018012b489",
   "metadata": {},
   "outputs": [
    {
     "data": {
      "text/plain": [
       "{'Illinois': 8.524143737625552,\n",
       " 'Indiana': 9.463486214247707,\n",
       " 'Iowa': 9.468929459023103,\n",
       " 'Michigan': 8.936374942955922,\n",
       " 'Minnesota': 7.491847623005652,\n",
       " 'Wisconsin': 9.582497175331794}"
      ]
     },
     "execution_count": 29,
     "metadata": {},
     "output_type": "execute_result"
    }
   ],
   "source": [
    "#Q21\n",
    "adj_states = [\"Illinois\", \"Indiana\", \"Iowa\", \"Michigan\", \"Minnesota\", \"Wisconsin\"]\n",
    "percentage = (pd.to_numeric(years[2018][\"Estimate!!Total!!No Computer\"]) / pd.to_numeric(years[2018][\"Estimate!!Total\"])) * 100\n",
    "states_dict = dict(percentage[adj_states])\n",
    "states_dict"
   ]
  },
  {
   "cell_type": "code",
   "execution_count": 30,
   "id": "e4733c8c-4ccc-4551-8a79-eaec5b45c5d5",
   "metadata": {},
   "outputs": [
    {
     "data": {
      "text/plain": [
       "<AxesSubplot:xlabel='Geographic Area Name', ylabel='% of Households w/o Computers'>"
      ]
     },
     "execution_count": 30,
     "metadata": {},
     "output_type": "execute_result"
    },
    {
     "data": {
      "image/png": "[encoded data removed]",
      "text/plain": [
       "<Figure size 640x480 with 1 Axes>"
      ]
     },
     "metadata": {},
     "output_type": "display_data"
    }
   ],
   "source": [
    "#Q22\n",
    "series_percentage = pd.Series(states_dict)\n",
    "series_percentage.plot.bar(ylabel = \"% of Households w/o Computers\", xlabel = \"Geographic Area Name\")"
   ]
  },
  {
   "cell_type": "code",
   "execution_count": 31,
   "id": "5ec94ed6-4115-4f4c-9e69-a0e28527c56b",
   "metadata": {},
   "outputs": [
    {
     "data": {
      "text/plain": [
       "<AxesSubplot:xlabel='Year', ylabel='Wi Households w/o Computers (in thousands)'>"
      ]
     },
     "execution_count": 31,
     "metadata": {},
     "output_type": "execute_result"
    },
    {
     "data": {
      "image/png": "[encoded data removed]",
      "text/plain": [
       "<Figure size 640x480 with 1 Axes>"
      ]
     },
     "metadata": {},
     "output_type": "display_data"
    }
   ],
   "source": [
    "#Q23\n",
    "yearly_totals = {}\n",
    "year = [2013, 2014, 2015, 2016, 2017, 2018]\n",
    "for x in year:\n",
    "    yearly_totals[x] = years[x][\"Estimate!!Total!!No Computer\"][\"Wisconsin\"] / 1000\n",
    "series_total = pd.Series(yearly_totals)\n",
    "series_total.plot(ylabel = \"Wi Households w/o Computers (in thousands)\", xlabel = \"Year\", yticks = range(0, 400, 100))"
   ]
  },
  {
   "cell_type": "code",
   "execution_count": 32,
   "id": "edf939c1-1ec1-4011-ab54-c36e21267f79",
   "metadata": {},
   "outputs": [
    {
     "data": {
      "text/plain": [
       "<AxesSubplot:xlabel='Smartphones (millions)', ylabel='Tablets (millions)'>"
      ]
     },
     "execution_count": 32,
     "metadata": {},
     "output_type": "execute_result"
    },
    {
     "data": {
      "image/png": "[encoded data removed]",
      "text/plain": [
       "<Figure size 640x480 with 1 Axes>"
      ]
     },
     "metadata": {},
     "output_type": "display_data"
    }
   ],
   "source": [
    "#Q24\n",
    "smart = years[2018][\"Estimate!!Total!!Has one or more types of computing devices!!Smartphone\"]\n",
    "tab = years[2018][\"Estimate!!Total!!Has one or more types of computing devices!!Tablet or other portable wireless computer\"]\n",
    "graph = years[2018].plot.scatter(x = \"Estimate!!Total!!Has one or more types of computing devices!!Smartphone\", \n",
    "                         y = \"Estimate!!Total!!Has one or more types of computing devices!!Tablet or other portable wireless computer\")\n",
    "graph.set_xlabel(\"Smartphones (millions)\")\n",
    "graph.set_ylabel(\"Tablets (millions)\")\n",
    "graph"
   ]
  },
  {
   "cell_type": "code",
   "execution_count": 33,
   "id": "072dc43d-9795-4052-b31f-bb639ef6986d",
   "metadata": {},
   "outputs": [
    {
     "name": "stderr",
     "output_type": "stream",
     "text": [
      "Already on 'main'\n"
     ]
    },
    {
     "data": {
      "text/plain": [
       "'commit 660994efc761efdfd49ca442b73f6712dc77b6cf'"
      ]
     },
     "execution_count": 33,
     "metadata": {},
     "output_type": "execute_result"
    }
   ],
   "source": [
    "#Q25\n",
    "check_output([\"git\", \"checkout\", \"main\"], cwd = \"flask\")\n",
    "output = str(check_output([\"git\", \"log\"], cwd = \"flask\"), \"utf-8\").split(\"\\n\")\n",
    "output[0]"
   ]
  },
  {
   "cell_type": "code",
   "execution_count": 34,
   "id": "fcb113e4-77b0-4b8a-9152-630a67939100",
   "metadata": {},
   "outputs": [
    {
     "data": {
      "text/plain": [
       "['7b5015010bc8c2a2d56c7c50b37e5b9facdad102',\n",
       " '40e0024d7b87150ed694829a5335bd2435962225',\n",
       " '6dd92ae4b32c336564231e10db12458a8b9261ca',\n",
       " '1246f4088a4fdc00a79f8029ff5d77bfe4fc9b14',\n",
       " 'c4f5c2fb9afc1679c085500830bd53fab93ad885',\n",
       " '1d8432ebfd1637eacab79a15e9b7963bf061371c',\n",
       " 'fc94599285aa1aec50b3c9426697249e55edda0a',\n",
       " 'c33675f0251071ea47ce166b81ce8c637842f091',\n",
       " '2d9bb692728fd76b19e467499caa4f5fcb07aede',\n",
       " 'ca520fb7e4c29afccc637e61c11429a0f3e8d5ad',\n",
       " '08f1f0dc32004fae01cf96d1eed84e6461e698e5',\n",
       " '8009bd986940378bba1399dbfce90d03e441467b',\n",
       " 'a42728568e18bedf588be2357b56021ab85b9fad',\n",
       " '959b5df00431c436474c5abca304e631c0de7721',\n",
       " '4affedec356ad8c9e6a107578f03fc7f5c615064',\n",
       " 'de03143f6ecf9a36dd32f16f07309c64d4de03b0',\n",
       " 'a01e8b49ca66608f0bd46134ff02deeb5724c799',\n",
       " '36071ca1f42a26ef327e9d14e4909a8c92cd4fae',\n",
       " '51c9829a9cdfa2bf301431f686d7a404cc7c5083',\n",
       " '2f5a4f8dbc832b0daebcd66ea8b3969589191fa7',\n",
       " '03148dba6b26a2694da1d466584f50189c52e7b3',\n",
       " 'ef524f2cfd65377b3b9ce896e7a710472b13c0f6',\n",
       " 'f2dc38cda61f76c64b97ab9f730accc986a4b188',\n",
       " '03168a5d53457fdb8676a4ac9fca0f76a23c6852',\n",
       " '0b8e01b4450d0ba8cb65751d866568fddc155fa4',\n",
       " '6a3a046f55755f0691568431e68a8bfea8d89df0',\n",
       " 'd78b04a3fca8d8887382606897d4a97e55062fda',\n",
       " '4671429a509094f36e2294055340197091d39979',\n",
       " '4e7aa9e7f7a86ee0ea4b6801694c13151518cb52',\n",
       " '85ca089dde8814c4a42ad4574cddce25d60e5e25',\n",
       " '8171da88a49eba769d313a51591ee8575be59762',\n",
       " 'df929c6c77ea5490a969275e45075c29711a498c',\n",
       " '574e81f9c8bbdc41958e1e7a7613633b091101f8',\n",
       " '1fff3e598126a084348ec2c112fdd3bc6b9a1ee0',\n",
       " '05f36c7f7e2df36ee28f90d99632162579b1287c',\n",
       " '4e1b3e1134eb478563bc434d794085d0a412cb84',\n",
       " '8e9bd5f009bb8756a2a7d76a4b792323eeee49d6',\n",
       " '9dfab582d065521e9350327801ed2c5ced1c8fa1',\n",
       " '3d719f35f5c1ee4ce3dc01fb2167ef49c0180cf6',\n",
       " '7d6b8e9ab3e738d69e39ad53a7c0f6a552d5284a',\n",
       " 'a9d4ea81da28ee9c894bf9d45adc4cfa9d52fddc',\n",
       " '727c701686c18c4a27ca523eb0c5862d497be24e',\n",
       " '4edec48b74dbb9d571e927b69b24c30ec0624975',\n",
       " '625eba4bb403296a8bbc1e72cc9cf4a5126f6c02',\n",
       " '4aa76212d1be9b17a57249549c2a73fb10b6cda8',\n",
       " '3b36bef2e6165bb4dad73d17f23ee1879e99f497',\n",
       " '44b42e0fbd93d86e0f4e929bda8e5fb63e81035d',\n",
       " '4ec7d2a0d8eac4f915dc0d38a886cd57045bb0c4',\n",
       " 'b15ad394279fc3b7f998fa56857f334a7c0156f6',\n",
       " '33850c0ebd23ae615e6823993d441f46d80b1ff0']"
      ]
     },
     "execution_count": 34,
     "metadata": {},
     "output_type": "execute_result"
    }
   ],
   "source": [
    "#Q26\n",
    "commits = [x for x in output if x.startswith(\"commit\")][-50:]\n",
    "[w[7:] for w in commits]"
   ]
  },
  {
   "cell_type": "code",
   "execution_count": 35,
   "id": "d181cc84-d130-4ab6-82b7-b647e4680295",
   "metadata": {},
   "outputs": [
    {
     "name": "stderr",
     "output_type": "stream",
     "text": [
      "Note: switching to '4ec7d2a0d8eac4f915dc0d38a886cd57045bb0c4'.\n",
      "\n",
      "You are in 'detached HEAD' state. You can look around, make experimental\n",
      "changes and commit them, and you can discard any commits you make in this\n",
      "state without impacting any branches by switching back to a branch.\n",
      "\n",
      "If you want to create a new branch to retain commits you create, you may\n",
      "do so (now or later) by using -c with the switch command. Example:\n",
      "\n",
      "  git switch -c <new-branch-name>\n",
      "\n",
      "Or undo this operation with:\n",
      "\n",
      "  git switch -\n",
      "\n",
      "Turn off this advice by setting config variable advice.detachedHead to false\n",
      "\n",
      "HEAD is now at 4ec7d2a0 Started working on documentation.\n"
     ]
    },
    {
     "data": {
      "text/plain": [
       "\"\\n                        // Flask //\\n\\n     because a pocket knife is not the only thing that\\n                    might come in handy\\n\\n\\n    ~ What is Flask?\\n\\n      Flask is a microframework for Python based on Werkzeug\\n      and Jinja2.  It's intended for small scale applications\\n      and was development with best intentions in mind.\\n\\n   ~ Is it ready?\\n\\n      Nope, this is still work in progress, but I am happy to\\n      accept patches and improvements already.\\n\""
      ]
     },
     "execution_count": 35,
     "metadata": {},
     "output_type": "execute_result"
    }
   ],
   "source": [
    "#Q27\n",
    "check_output([\"git\", \"checkout\", commits[-3][7:]], cwd = \"flask\")\n",
    "f = open(\"/home/aluo7/f22/p1/flask/README\")\n",
    "f.read()"
   ]
  },
  {
   "cell_type": "code",
   "execution_count": 36,
   "id": "1d4a266d-4cf1-45c4-9d67-73e4d460aaf3",
   "metadata": {},
   "outputs": [
    {
     "name": "stderr",
     "output_type": "stream",
     "text": [
      "Previous HEAD position was 4ec7d2a0 Started working on documentation.\n",
      "Switched to branch 'main'\n"
     ]
    },
    {
     "data": {
      "text/plain": [
       "{'pallets': 204,\n",
       " 'pgjones': 14,\n",
       " 'greyli': 42,\n",
       " 'ThiefMaster': 11,\n",
       " 'jeffwidman': 8,\n",
       " 'garenchan': 8,\n",
       " 'davidism': 45,\n",
       " 'dawran6': 7,\n",
       " 'untitaker': 20,\n",
       " 'lord63-forks': 5,\n",
       " 'methane': 5,\n",
       " 'Winnetou': 6,\n",
       " 'defuz': 6,\n",
       " 'ThomasWaldmann': 13,\n",
       " 'SimonSapin': 11}"
      ]
     },
     "execution_count": 36,
     "metadata": {},
     "output_type": "execute_result"
    }
   ],
   "source": [
    "#Q28\n",
    "f.close()\n",
    "check_output([\"git\", \"checkout\", \"main\"], cwd = \"flask\")\n",
    "\n",
    "users = [x for x in output if ((\"Merge pull request\" in x) and (\"/\" in x))] \n",
    "users = [y.split(\" \")[-1].split(\"/\")[0] for y in users]\n",
    "\n",
    "freq = {}\n",
    "for user in users:\n",
    "    if (user in freq):\n",
    "        freq[user] += 1\n",
    "    else:\n",
    "        freq[user] = 1\n",
    "\n",
    "freqGT = {}\n",
    "for x in freq.keys():\n",
    "    if freq[x] >= 5:\n",
    "        freqGT[x] = freq[x]\n",
    "        \n",
    "freqGT"
   ]
  },
  {
   "cell_type": "code",
   "execution_count": 37,
   "id": "24e80402-8f1e-4829-afbb-0f74f471345f",
   "metadata": {},
   "outputs": [
    {
     "data": {
      "text/plain": [
       "'ERROR: unknown command \"instal\" - maybe you meant \"install\"\\n'"
      ]
     },
     "execution_count": 37,
     "metadata": {},
     "output_type": "execute_result"
    }
   ],
   "source": [
    "#Q29\n",
    "try:\n",
    "    msg = check_output([\"pip3\", \"instal\"], stderr=STDOUT)\n",
    "except CalledProcessError as e:\n",
    "    msg = e.output\n",
    "    \n",
    "msg.decode(\"utf-8\")"
   ]
  },
  {
   "cell_type": "code",
   "execution_count": 38,
   "id": "41e6934d-a8a7-4e4e-8703-e02f4dfa287e",
   "metadata": {},
   "outputs": [],
   "source": [
    "def rand_df(rows):\n",
    "    return pd.DataFrame(np.random.randint(10, size=(rows, 4)),\n",
    "                        columns=[\"A\", \"B\", \"C\", \"D\"],\n",
    "                        index=[f\"r{i}\" for i in range(1, rows+1)])"
   ]
  },
  {
   "cell_type": "code",
   "execution_count": 39,
   "id": "61f4d110-eed2-4189-bb4f-6a50ae7797c0",
   "metadata": {},
   "outputs": [
    {
     "data": {
      "text/plain": [
       "<AxesSubplot:>"
      ]
     },
     "execution_count": 39,
     "metadata": {},
     "output_type": "execute_result"
    },
    {
     "data": {
      "image/png": "[encoded data removed]",
      "text/plain": [
       "<Figure size 640x480 with 1 Axes>"
      ]
     },
     "metadata": {},
     "output_type": "display_data"
    }
   ],
   "source": [
    "#Q30\n",
    "times_df = pd.DataFrame(dtype=float)\n",
    "\n",
    "for x in range(1000, 6000, 1000):\n",
    "    df = rand_df(x)\n",
    "    t0 = time()\n",
    "    \n",
    "    for row in df.iterrows():\n",
    "        pass\n",
    "    \n",
    "    t1 = time()\n",
    "    \n",
    "    times_df.at[x, \"A\"] = (t1-t0) * 1e3\n",
    "    \n",
    "    t0 = time()\n",
    "    \n",
    "    for row in df.itertuples():\n",
    "        pass\n",
    "    \n",
    "    t1 = time()\n",
    "    \n",
    "    times_df.at[x, \"B\"] = (t1-t0) * 1e3\n",
    "\n",
    "times_df.plot.line(xticks = range(1000, 6000, 1000), yticks = range(0, 175, 25))"
   ]
  },
  {
   "cell_type": "code",
   "execution_count": 40,
   "id": "91014c53-9bcf-47d7-b83d-bc11309a1bde",
   "metadata": {},
   "outputs": [
    {
     "data": {
      "text/plain": [
       "<AxesSubplot:>"
      ]
     },
     "execution_count": 40,
     "metadata": {},
     "output_type": "execute_result"
    },
    {
     "data": {
      "image/png": "[encoded data removed]",
      "text/plain": [
       "<Figure size 640x480 with 1 Axes>"
      ]
     },
     "metadata": {},
     "output_type": "display_data"
    }
   ],
   "source": [
    "#Q31\n",
    "times_df = pd.DataFrame(dtype=float)\n",
    "\n",
    "for x in range(1000, 6000, 1000):\n",
    "    df = rand_df(x)\n",
    "    t0 = time()\n",
    "    \n",
    "    total = 0\n",
    "    for idx in df.index:\n",
    "        for col in df.columns:\n",
    "            total += df.loc[idx, col]\n",
    "            \n",
    "    t1 = time()\n",
    "    \n",
    "    times_df.at[x, \"A\"] = (t1-t0) * 1e3\n",
    "    \n",
    "    t0 = time()\n",
    "    \n",
    "    total = 0\n",
    "    for idx in df.index:\n",
    "        for col in df.columns:\n",
    "            total += df.at[idx, col]\n",
    "        \n",
    "    t1 = time()   \n",
    "    \n",
    "    times_df.at[x, \"B\"] = (t1-t0) * 1e3\n",
    "\n",
    "times_df.plot.line(xticks = range(1000, 6000, 1000), yticks = range(0, 175, 25))"
   ]
  },
  {
   "cell_type": "code",
   "execution_count": 41,
   "id": "359477f6-cbc5-412a-9f7b-b44103c38bd3",
   "metadata": {},
   "outputs": [],
   "source": [
    "def laugh(x):\n",
    "    return \"ha\" * x"
   ]
  },
  {
   "cell_type": "code",
   "execution_count": 42,
   "id": "67469404-35d1-47e5-bb80-81a265359404",
   "metadata": {},
   "outputs": [
    {
     "data": {
      "text/plain": [
       "<AxesSubplot:>"
      ]
     },
     "execution_count": 42,
     "metadata": {},
     "output_type": "execute_result"
    },
    {
     "data": {
      "image/png": "[encoded data removed]",
      "text/plain": [
       "<Figure size 640x480 with 1 Axes>"
      ]
     },
     "metadata": {},
     "output_type": "display_data"
    }
   ],
   "source": [
    "#Q32\n",
    "times_df = pd.DataFrame(dtype=float)\n",
    "\n",
    "for x in range(1000, 22000, 3800):\n",
    "    df = rand_df(x)\n",
    "    t0 = time()\n",
    "    \n",
    "    result = df[\"A\"].apply(laugh).tolist()\n",
    "    t1 = time()\n",
    "    \n",
    "    times_df.at[x, \"A\"] = (t1-t0) * 1e3\n",
    "    \n",
    "    t0 = time()\n",
    "    \n",
    "    result = []\n",
    "    for val in df[\"A\"]:\n",
    "        result.append(laugh(val))\n",
    "        \n",
    "    t1 = time()\n",
    "    \n",
    "    times_df.at[x, \"B\"] = (t1-t0) * 1e3\n",
    "\n",
    "times_df.plot.line(xticks = range(1000, 23000, 3800))"
   ]
  }
 ],
 "metadata": {
  "kernelspec": {
   "display_name": "Python 3 (ipykernel)",
   "language": "python",
   "name": "python3"
  },
  "language_info": {
   "codemirror_mode": {
    "name": "ipython",
    "version": 3
   },
   "file_extension": ".py",
   "mimetype": "text/x-python",
   "name": "python",
   "nbconvert_exporter": "python",
   "pygments_lexer": "ipython3",
   "version": "3.10.4"
  }
 },
 "nbformat": 4,
 "nbformat_minor": 5
}
