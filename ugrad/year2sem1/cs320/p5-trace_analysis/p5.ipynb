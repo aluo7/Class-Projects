{
 "cells": [
  {
   "cell_type": "code",
   "execution_count": 1,
   "id": "ab65ee52-46b1-457a-9c48-f7c6e265486e",
   "metadata": {},
   "outputs": [],
   "source": [
    "# project: p5\n",
    "# submitter: aluo7\n",
    "# partner: none\n",
    "# hours: 5"
   ]
  },
  {
   "cell_type": "code",
   "execution_count": 2,
   "id": "97c1c71f-6747-46b0-a4fb-2dc049f7156d",
   "metadata": {
    "tags": []
   },
   "outputs": [],
   "source": [
    "from shapely.geometry import Polygon, box, Point\n",
    "from graphviz import Digraph\n",
    "import pandas as pd, geopandas as gpd, zipfile, edgar_utils, re"
   ]
  },
  {
   "cell_type": "code",
   "execution_count": 3,
   "id": "4df9ca41-1a44-471c-b959-d8750c5d25d1",
   "metadata": {
    "jupyter": {
     "source_hidden": true
    },
    "tags": []
   },
   "outputs": [],
   "source": [
    "%load_ext autoreload\n",
    "%autoreload 2"
   ]
  },
  {
   "cell_type": "code",
   "execution_count": 4,
   "id": "1cff2446-796a-4074-8a6d-e98dcdcbb4b5",
   "metadata": {
    "tags": []
   },
   "outputs": [
    {
     "data": {
      "text/plain": [
       "24801002666"
      ]
     },
     "execution_count": 4,
     "metadata": {},
     "output_type": "execute_result"
    }
   ],
   "source": [
    "#Q1\n",
    "with zipfile.ZipFile(\"server_log.zip\") as zf:\n",
    "    df = pd.read_csv(zf.open(\"rows.csv\"))\n",
    "\n",
    "total = 0\n",
    "for x in df[\"size\"]:\n",
    "    total += x\n",
    "    \n",
    "int(total)"
   ]
  },
  {
   "cell_type": "code",
   "execution_count": 5,
   "id": "01b242fa-e563-46b6-b570-9bc76c441aa6",
   "metadata": {
    "tags": []
   },
   "outputs": [
    {
     "data": {
      "text/plain": [
       "{'54.152.17.ccg': 12562,\n",
       " '183.195.251.hah': 6524,\n",
       " '52.45.218.ihf': 5562,\n",
       " '68.180.231.abf': 5493,\n",
       " '204.212.175.bch': 4708,\n",
       " '103.238.106.gif': 4428,\n",
       " '208.77.215.jeh': 3903,\n",
       " '208.77.214.jeh': 3806,\n",
       " '217.174.255.dgd': 3551,\n",
       " '82.13.163.caf': 3527}"
      ]
     },
     "execution_count": 5,
     "metadata": {},
     "output_type": "execute_result"
    }
   ],
   "source": [
    "#Q2\n",
    "ips = {}\n",
    "for x in df[\"ip\"]:\n",
    "    if x in ips:\n",
    "        ips[x] += 1\n",
    "    else:\n",
    "        ips[x] = 1\n",
    "        \n",
    "dict(sorted(ips.items(), key = lambda x : -x[1])[:10])"
   ]
  },
  {
   "cell_type": "code",
   "execution_count": 6,
   "id": "79125415-4015-4b24-94ca-29a8987769ba",
   "metadata": {
    "tags": []
   },
   "outputs": [
    {
     "data": {
      "text/plain": [
       "0.03466852724527611"
      ]
     },
     "execution_count": 6,
     "metadata": {},
     "output_type": "execute_result"
    }
   ],
   "source": [
    "#Q3\n",
    "c = 0\n",
    "for x in df[\"code\"]:\n",
    "    if x >= 400:\n",
    "        c += 1\n",
    "        \n",
    "c / len(df[\"code\"])"
   ]
  },
  {
   "cell_type": "code",
   "execution_count": 7,
   "id": "1a2a61b4-a818-4345-86a0-276a7fda5329",
   "metadata": {
    "tags": []
   },
   "outputs": [
    {
     "data": {
      "text/plain": [
       "'1627631/0001627631-15-000004/.txt'"
      ]
     },
     "execution_count": 7,
     "metadata": {},
     "output_type": "execute_result"
    }
   ],
   "source": [
    "#Q4\n",
    "cik = df[\"cik\"]\n",
    "acc = df[\"accession\"]\n",
    "ext = df[\"extention\"]\n",
    "\n",
    "files = {}\n",
    "for x in range(len(cik)):\n",
    "    f = str(int(cik[x])) + \"/\" + acc[x] + \"/\" + ext[x]\n",
    "    \n",
    "    if f in files:\n",
    "        files[f] += 1\n",
    "    else:\n",
    "        files[f] = 1\n",
    "        \n",
    "list(dict(sorted(files.items(), key = lambda x: -x[1])).keys())[0]"
   ]
  },
  {
   "cell_type": "code",
   "execution_count": 8,
   "id": "04364249-bbad-4dec-aa87-4f8a77c2c1af",
   "metadata": {
    "tags": []
   },
   "outputs": [
    {
     "data": {
      "text/plain": [
       "971"
      ]
     },
     "execution_count": 8,
     "metadata": {},
     "output_type": "execute_result"
    }
   ],
   "source": [
    "#Q5\n",
    "count = 0\n",
    "for x in df[\"crawler\"]:\n",
    "    if x != 0:\n",
    "        count += 1\n",
    "\n",
    "count"
   ]
  },
  {
   "cell_type": "code",
   "execution_count": 9,
   "id": "2de328d0-f555-4776-a623-7068b64578c8",
   "metadata": {
    "tags": []
   },
   "outputs": [
    {
     "data": {
      "text/plain": [
       "'United States of America'"
      ]
     },
     "execution_count": 9,
     "metadata": {},
     "output_type": "execute_result"
    }
   ],
   "source": [
    "#Q6\n",
    "d = {}\n",
    "for x in df[\"ip\"]:\n",
    "    reg = edgar_utils.lookup_region(x)\n",
    "    if reg in d:\n",
    "        d[reg] += 1\n",
    "    else:\n",
    "        d[reg] = 1\n",
    "\n",
    "list(dict(sorted(d.items(), key = lambda x: -x[1])).keys())[0]"
   ]
  },
  {
   "cell_type": "code",
   "execution_count": 10,
   "id": "77b69efa-c144-42c2-b9f6-a22c8abaa5e6",
   "metadata": {
    "tags": []
   },
   "outputs": [
    {
     "data": {
      "text/plain": [
       "{'United States of America': 0.019862490450725745,\n",
       " 'China': 0.006864988558352402,\n",
       " 'Hong Kong': 0,\n",
       " 'Ireland': 0.3125,\n",
       " 'Canada': 0.017857142857142856,\n",
       " 'United Kingdom of Great Britain and Northern Ireland': 0.06666666666666667,\n",
       " 'Czechia': 0,\n",
       " 'Germany': 0,\n",
       " 'Bulgaria': 0.3333333333333333,\n",
       " 'France': 0.0036900369003690036,\n",
       " 'India': 0.058823529411764705,\n",
       " 'Korea (Republic of)': 0.2,\n",
       " 'Australia': 0.07692307692307693,\n",
       " 'Spain': 0,\n",
       " 'Netherlands': 0,\n",
       " 'Sweden': 0,\n",
       " 'Sudan': 0,\n",
       " 'Estonia': 0,\n",
       " 'Russian Federation': 0,\n",
       " 'Tanzania, United Republic of': 0,\n",
       " 'Yemen': 0,\n",
       " 'Algeria': 0,\n",
       " 'Ukraine': 0,\n",
       " 'Slovakia': 0,\n",
       " 'Viet Nam': 0,\n",
       " 'Denmark': 0,\n",
       " 'Singapore': 0,\n",
       " 'Switzerland': 0,\n",
       " 'Thailand': 0,\n",
       " 'South Africa': 0,\n",
       " 'Italy': 0,\n",
       " 'Poland': 0,\n",
       " 'Taiwan (Province of China)': 0,\n",
       " 'Brazil': 0,\n",
       " 'Morocco': 0,\n",
       " 'Malaysia': 0,\n",
       " 'Hungary': 0,\n",
       " 'Japan': 0,\n",
       " 'Luxembourg': 0,\n",
       " 'Romania': 0,\n",
       " 'Liberia': 0,\n",
       " 'Israel': 0,\n",
       " 'Bangladesh': 0,\n",
       " 'Austria': 0,\n",
       " 'Indonesia': 0,\n",
       " 'Saudi Arabia': 0,\n",
       " 'Armenia': 0,\n",
       " 'Philippines': 0,\n",
       " 'Egypt': 0,\n",
       " 'Iraq': 0,\n",
       " 'North Macedonia': 0,\n",
       " 'Slovenia': 0,\n",
       " 'Finland': 0,\n",
       " '-': 0,\n",
       " 'Croatia': 0,\n",
       " 'Portugal': 0,\n",
       " 'Latvia': 0,\n",
       " 'Syrian Arab Republic': 0,\n",
       " 'Lebanon': 0,\n",
       " 'Mongolia': 0,\n",
       " 'Cyprus': 0,\n",
       " 'Virgin Islands (British)': 0,\n",
       " 'Pakistan': 0,\n",
       " 'Greece': 0,\n",
       " 'Honduras': 0,\n",
       " 'Turkey': 0,\n",
       " 'Nigeria': 0,\n",
       " 'Jordan': 0,\n",
       " 'Angola': 0,\n",
       " 'Mexico': 0,\n",
       " 'Jersey': 0,\n",
       " 'Venezuela (Bolivarian Republic of)': 0}"
      ]
     },
     "execution_count": 10,
     "metadata": {},
     "output_type": "execute_result"
    }
   ],
   "source": [
    "#Q7   \n",
    "no_dupes = df[\"ip\"].drop_duplicates()\n",
    "\n",
    "unique_ips = {}\n",
    "for x in no_dupes:\n",
    "    reg = edgar_utils.lookup_region(x)\n",
    "    if reg in unique_ips:\n",
    "        unique_ips[reg] += 1\n",
    "    else:\n",
    "        unique_ips[reg] = 1\n",
    "\n",
    "over_1000 = {}\n",
    "for j in ips:\n",
    "    if ips[j] > 1000:\n",
    "        reg = edgar_utils.lookup_region(j)\n",
    "        if reg in over_1000:\n",
    "            over_1000[reg] += 1\n",
    "        else:\n",
    "            over_1000[reg] = 1\n",
    "            \n",
    "ans = {}\n",
    "for k in d.keys():\n",
    "    if k in over_1000:\n",
    "        ans[k] = over_1000[k] / unique_ips[k]\n",
    "    else:\n",
    "        ans[k] = 0\n",
    "    \n",
    "ans"
   ]
  },
  {
   "cell_type": "code",
   "execution_count": 11,
   "id": "ff244151-4847-4b9a-9ce5-c31e16478773",
   "metadata": {
    "tags": []
   },
   "outputs": [
    {
     "data": {
      "text/plain": [
       "['2007-07-25', '2007-07-25', '2007-07-23']"
      ]
     },
     "execution_count": 11,
     "metadata": {},
     "output_type": "execute_result"
    }
   ],
   "source": [
    "#Q8\n",
    "with zipfile.ZipFile(\"docs.zip\") as zf:\n",
    "    with zf.open(\"850693/0000850693-07-000159/-index.htm\") as f:\n",
    "        html = f.read()\n",
    "        \n",
    "html = html.decode(\"utf-8\")\n",
    "f = edgar_utils.Filing(html)\n",
    "f.dates"
   ]
  },
  {
   "cell_type": "code",
   "execution_count": 12,
   "id": "b6b16875-e7c5-43a2-898e-6587c9e2a3b4",
   "metadata": {
    "tags": []
   },
   "outputs": [
    {
     "data": {
      "text/plain": [
       "{'OX': 6,\n",
       " 'NJ': 23,\n",
       " 'MS': 1,\n",
       " 'MA': 30,\n",
       " 'CA': 91,\n",
       " 'CO': 25,\n",
       " 'NY': 83,\n",
       " 'TX': 64,\n",
       " 'FL': 21,\n",
       " 'AL': 1,\n",
       " 'IN': 4,\n",
       " 'CT': 14,\n",
       " 'UT': 5,\n",
       " 'MD': 13,\n",
       " 'KS': 5,\n",
       " 'VA': 15,\n",
       " 'OH': 10,\n",
       " 'SD': 1,\n",
       " 'DE': 10,\n",
       " 'IL': 25,\n",
       " 'GA': 8,\n",
       " 'NC': 9,\n",
       " 'PA': 25,\n",
       " 'TN': 4,\n",
       " 'MN': 15,\n",
       " 'NM': 1,\n",
       " 'KY': 2,\n",
       " 'OK': 7,\n",
       " 'AR': 1,\n",
       " 'NV': 6,\n",
       " 'VT': 1,\n",
       " 'MO': 4,\n",
       " 'MI': 11,\n",
       " 'NE': 2,\n",
       " 'IA': 6,\n",
       " 'AZ': 5,\n",
       " 'WI': 9,\n",
       " 'LA': 2,\n",
       " 'ID': 1,\n",
       " 'OR': 2,\n",
       " 'WV': 2,\n",
       " 'WA': 3,\n",
       " 'DC': 1,\n",
       " 'ME': 1}"
      ]
     },
     "execution_count": 12,
     "metadata": {},
     "output_type": "execute_result"
    }
   ],
   "source": [
    "#Q9\n",
    "states = {}\n",
    "with zipfile.ZipFile(\"docs.zip\") as zf:\n",
    "    for x in zf.namelist():\n",
    "        with zf.open(x) as f:\n",
    "            html = f.read()\n",
    "            \n",
    "        html = html.decode(\"utf-8\")\n",
    "        f = edgar_utils.Filing(html)\n",
    "        \n",
    "        if f.state() in states:\n",
    "            states[f.state()] += 1\n",
    "        else:\n",
    "            states[f.state()] = 1\n",
    "        \n",
    "states.pop(None)\n",
    "states"
   ]
  },
  {
   "cell_type": "code",
   "execution_count": 13,
   "id": "6de43b64-8223-42a0-a485-0497e4543370",
   "metadata": {
    "tags": []
   },
   "outputs": [
    {
     "data": {
      "text/plain": [
       "{2834: 40,\n",
       " 6022: 20,\n",
       " 1311: 20,\n",
       " 6189: 17,\n",
       " 6211: 17,\n",
       " 8731: 2,\n",
       " 1389: 19,\n",
       " 7370: 7,\n",
       " 3571: 1,\n",
       " 7361: 1,\n",
       " 3674: 5,\n",
       " 4931: 5,\n",
       " 1040: 2,\n",
       " 2810: 2,\n",
       " 7389: 11,\n",
       " 3140: 1,\n",
       " 7374: 4,\n",
       " 6200: 1,\n",
       " 7381: 1,\n",
       " 3620: 3,\n",
       " 3841: 6,\n",
       " 4941: 1,\n",
       " 5621: 1,\n",
       " 7330: 1,\n",
       " 6199: 8,\n",
       " 6798: 20,\n",
       " 2510: 4,\n",
       " 3990: 2,\n",
       " 1700: 5,\n",
       " 7371: 6,\n",
       " 5940: 2,\n",
       " 4522: 5,\n",
       " 1731: 2,\n",
       " 6311: 2,\n",
       " 8082: 2,\n",
       " 2836: 13,\n",
       " 6021: 20,\n",
       " 1000: 11,\n",
       " 4911: 8,\n",
       " 6324: 2,\n",
       " 8051: 1,\n",
       " 6035: 4,\n",
       " 3550: 1,\n",
       " 4813: 4,\n",
       " 6321: 2,\n",
       " 2890: 1,\n",
       " 3845: 2,\n",
       " 2860: 8,\n",
       " 1221: 2,\n",
       " 3669: 2,\n",
       " 6411: 1,\n",
       " 5900: 2,\n",
       " 2320: 1,\n",
       " 6221: 3,\n",
       " 6331: 10,\n",
       " 2070: 1,\n",
       " 8742: 5,\n",
       " 3829: 3,\n",
       " 900: 5,\n",
       " 5500: 2,\n",
       " 7372: 11,\n",
       " 6770: 1,\n",
       " 4841: 2,\n",
       " 4833: 1,\n",
       " 7384: 1,\n",
       " 6799: 3,\n",
       " 3826: 5,\n",
       " 8711: 2,\n",
       " 5160: 1,\n",
       " 5944: 1,\n",
       " 3420: 3,\n",
       " 3510: 3,\n",
       " 5960: 1,\n",
       " 3842: 4,\n",
       " 8062: 3,\n",
       " 6029: 11,\n",
       " 7320: 1,\n",
       " 5172: 2,\n",
       " 1382: 2,\n",
       " 3663: 4,\n",
       " 1400: 3,\n",
       " 7822: 1,\n",
       " 2024: 1,\n",
       " 2080: 1,\n",
       " 7812: 2,\n",
       " 4922: 2,\n",
       " 2030: 1,\n",
       " 3576: 3,\n",
       " 2711: 1,\n",
       " 3578: 1,\n",
       " 3679: 2,\n",
       " 2842: 1,\n",
       " 4899: 1,\n",
       " 100: 1,\n",
       " 3541: 1,\n",
       " 7311: 1,\n",
       " 3317: 1,\n",
       " 2033: 1,\n",
       " 3721: 1,\n",
       " 3621: 2,\n",
       " 3730: 1,\n",
       " 5122: 2,\n",
       " 3585: 1,\n",
       " 3944: 1,\n",
       " 5812: 4,\n",
       " 3661: 2,\n",
       " 3577: 2,\n",
       " 3711: 1,\n",
       " 2800: 3,\n",
       " 3490: 1,\n",
       " 4924: 1,\n",
       " 3537: 1,\n",
       " 8093: 1,\n",
       " 6141: 2,\n",
       " 4412: 1,\n",
       " 3272: 2,\n",
       " 2911: 1,\n",
       " 7200: 3,\n",
       " 3695: 2,\n",
       " 6282: 8,\n",
       " 6513: 1,\n",
       " 6099: 1,\n",
       " 7373: 3,\n",
       " 3559: 2,\n",
       " 7350: 1,\n",
       " 3690: 2,\n",
       " 3714: 1,\n",
       " 7363: 1,\n",
       " 2111: 2,\n",
       " 3825: 2,\n",
       " 8200: 1,\n",
       " 5990: 1,\n",
       " 3630: 1,\n",
       " 1531: 2,\n",
       " 1381: 1,\n",
       " 5961: 1,\n",
       " 2870: 2,\n",
       " 5030: 1,\n",
       " 5731: 1,\n",
       " 2780: 1,\n",
       " 2820: 1,\n",
       " 2670: 1,\n",
       " 3312: 1,\n",
       " 3590: 1,\n",
       " 4812: 2,\n",
       " 5065: 2,\n",
       " 6036: 1,\n",
       " 7900: 2,\n",
       " 5661: 2,\n",
       " 2790: 1,\n",
       " 7340: 1,\n",
       " 5651: 1,\n",
       " 3442: 1,\n",
       " 6500: 1,\n",
       " 4512: 2,\n",
       " 7841: 1,\n",
       " 8090: 1,\n",
       " 4955: 1,\n",
       " 5311: 1,\n",
       " 2750: 1,\n",
       " 7830: 2,\n",
       " 4213: 1,\n",
       " 3672: 1,\n",
       " 5531: 1,\n",
       " 2430: 1,\n",
       " 6111: 1,\n",
       " 5945: 1,\n",
       " 3678: 1,\n",
       " 6792: 1,\n",
       " 3827: 1,\n",
       " 3443: 1,\n",
       " 7990: 1,\n",
       " 2273: 1,\n",
       " 1623: 1}"
      ]
     },
     "execution_count": 13,
     "metadata": {},
     "output_type": "execute_result"
    }
   ],
   "source": [
    "#Q10\n",
    "sic = {}\n",
    "with zipfile.ZipFile(\"docs.zip\") as zf:\n",
    "    for x in zf.namelist():\n",
    "        with zf.open(x) as f:\n",
    "            html = f.read()\n",
    "            \n",
    "        html = html.decode(\"utf-8\")\n",
    "        f = edgar_utils.Filing(html)\n",
    "        \n",
    "        if f.sic in sic:\n",
    "            sic[f.sic] += 1\n",
    "        else:\n",
    "            sic[f.sic] = 1\n",
    "        \n",
    "sic.pop(None)\n",
    "sic"
   ]
  },
  {
   "cell_type": "code",
   "execution_count": 14,
   "id": "991eb99a-ebb9-447c-a80a-9cb85e804038",
   "metadata": {
    "tags": []
   },
   "outputs": [
    {
     "data": {
      "text/plain": [
       "{2834: 984,\n",
       " 1389: 656,\n",
       " 1311: 550,\n",
       " 2836: 429,\n",
       " 6022: 379,\n",
       " 1000: 273,\n",
       " 6211: 237,\n",
       " 7371: 229,\n",
       " 2860: 226,\n",
       " 6021: 204,\n",
       " 6282: 171,\n",
       " 2510: 171,\n",
       " 3825: 164,\n",
       " 4841: 108,\n",
       " 5621: 99,\n",
       " 7200: 94,\n",
       " 7374: 94,\n",
       " 6331: 91,\n",
       " 6798: 90,\n",
       " 5311: 90,\n",
       " 3842: 87,\n",
       " 6221: 85,\n",
       " 6029: 83,\n",
       " 3272: 81,\n",
       " 3829: 73,\n",
       " 4931: 70,\n",
       " 3510: 66,\n",
       " 7830: 62,\n",
       " 3826: 56,\n",
       " 3695: 55,\n",
       " 3620: 50,\n",
       " 7373: 48,\n",
       " 6799: 46,\n",
       " 4412: 43,\n",
       " 4512: 42,\n",
       " 7340: 40,\n",
       " 7370: 39,\n",
       " 900: 39,\n",
       " 6513: 38,\n",
       " 3621: 38,\n",
       " 5172: 36,\n",
       " 5900: 35,\n",
       " 4213: 35,\n",
       " 3990: 34,\n",
       " 5122: 34,\n",
       " 5944: 33,\n",
       " 2070: 33,\n",
       " 8090: 32,\n",
       " 1700: 31,\n",
       " 3312: 31,\n",
       " 1381: 31,\n",
       " 4922: 31,\n",
       " 6324: 30,\n",
       " 8742: 27,\n",
       " 7389: 26,\n",
       " 8731: 25,\n",
       " 7812: 25,\n",
       " 3590: 24,\n",
       " 4955: 23,\n",
       " 3663: 23,\n",
       " 4522: 22,\n",
       " 6321: 21,\n",
       " 3559: 20,\n",
       " 5812: 19,\n",
       " 6792: 19,\n",
       " 6189: 18,\n",
       " 7372: 16,\n",
       " 3841: 14,\n",
       " 6199: 11,\n",
       " 1731: 11,\n",
       " 4911: 8,\n",
       " 4833: 7,\n",
       " 6035: 7,\n",
       " 3571: 6,\n",
       " 2430: 6,\n",
       " 3679: 5,\n",
       " 3674: 5,\n",
       " 4813: 4,\n",
       " 3678: 4,\n",
       " 4812: 4,\n",
       " 1531: 4,\n",
       " 5500: 4,\n",
       " 6411: 3,\n",
       " 1400: 3,\n",
       " 2800: 3,\n",
       " 3420: 3,\n",
       " 8062: 3,\n",
       " 3576: 3,\n",
       " 2870: 2,\n",
       " 1040: 2,\n",
       " 8711: 2,\n",
       " 3669: 2,\n",
       " 3845: 2,\n",
       " 6770: 2,\n",
       " 1382: 2,\n",
       " 5065: 2,\n",
       " 8082: 2,\n",
       " 5661: 2,\n",
       " 7900: 2,\n",
       " 6141: 2,\n",
       " 1221: 2,\n",
       " 3661: 2,\n",
       " 3577: 2,\n",
       " 3690: 2,\n",
       " 2890: 2,\n",
       " 6311: 2,\n",
       " 2810: 2,\n",
       " 2111: 2,\n",
       " 5940: 2,\n",
       " 2080: 1,\n",
       " 3541: 1,\n",
       " 2711: 1,\n",
       " 7350: 1,\n",
       " 7990: 1,\n",
       " 2911: 1,\n",
       " 3721: 1,\n",
       " 5990: 1,\n",
       " 5731: 1,\n",
       " 5531: 1,\n",
       " 2750: 1,\n",
       " 2030: 1,\n",
       " 3714: 1,\n",
       " 3578: 1,\n",
       " 8093: 1,\n",
       " 8200: 1,\n",
       " 2670: 1,\n",
       " 2320: 1,\n",
       " 5961: 1,\n",
       " 8051: 1,\n",
       " 3944: 1,\n",
       " 5960: 1,\n",
       " 7822: 1,\n",
       " 3140: 1,\n",
       " 7841: 1,\n",
       " 3490: 1,\n",
       " 3672: 1,\n",
       " 3442: 1,\n",
       " 7330: 1,\n",
       " 4941: 1,\n",
       " 7361: 1,\n",
       " 6500: 1,\n",
       " 5945: 1,\n",
       " 5651: 1,\n",
       " 7311: 1,\n",
       " 2842: 1,\n",
       " 6111: 1,\n",
       " 2790: 1,\n",
       " 5030: 1,\n",
       " 7381: 1,\n",
       " 3630: 1,\n",
       " 2024: 1,\n",
       " 2780: 1,\n",
       " 2033: 1,\n",
       " 3537: 1,\n",
       " 3443: 1,\n",
       " 3711: 1,\n",
       " 7320: 1,\n",
       " 6099: 1,\n",
       " 7384: 1,\n",
       " 2820: 1,\n",
       " 3827: 1,\n",
       " 2273: 1,\n",
       " 100: 1,\n",
       " 4899: 1,\n",
       " 6036: 1,\n",
       " 7363: 1,\n",
       " 4924: 1,\n",
       " 3550: 1,\n",
       " 1623: 1,\n",
       " 3585: 1,\n",
       " 6200: 1,\n",
       " 3730: 1,\n",
       " 5160: 1,\n",
       " 3317: 1}"
      ]
     },
     "execution_count": 14,
     "metadata": {},
     "output_type": "execute_result"
    }
   ],
   "source": [
    "#Q11\n",
    "cik = df[\"cik\"]\n",
    "acc = df[\"accession\"]\n",
    "ext = df[\"extention\"]\n",
    "\n",
    "file_list = []\n",
    "for x in range(len(cik)):\n",
    "    file_list.append(str(int(cik[x])) + \"/\" + acc[x] + \"/\" + ext[x])\n",
    "    \n",
    "s = {}\n",
    "with zipfile.ZipFile(\"docs.zip\") as zf:\n",
    "    for x in file_list:\n",
    "        if x in zf.namelist():\n",
    "            with zf.open(x) as f:\n",
    "                html = f.read()\n",
    "            \n",
    "            html = html.decode(\"utf-8\")\n",
    "            f = edgar_utils.Filing(html)\n",
    "            \n",
    "            if f.sic in s:\n",
    "                s[f.sic] += 1\n",
    "            else:\n",
    "                s[f.sic] = 1\n",
    "                \n",
    "s = dict(sorted(s.items(), key = lambda x: -x[1]))\n",
    "s.pop(None)\n",
    "s"
   ]
  },
  {
   "cell_type": "code",
   "execution_count": 15,
   "id": "ef59b8c7-9b2c-4c79-8d42-e5151cb942fa",
   "metadata": {
    "tags": []
   },
   "outputs": [
    {
     "data": {
      "text/plain": [
       "{0: 8305,\n",
       " 1: 8242,\n",
       " 2: 8550,\n",
       " 3: 8850,\n",
       " 4: 8343,\n",
       " 5: 9783,\n",
       " 6: 7761,\n",
       " 7: 8213,\n",
       " 8: 8292,\n",
       " 9: 11033,\n",
       " 10: 6377,\n",
       " 11: 6435,\n",
       " 12: 6155,\n",
       " 13: 6006,\n",
       " 14: 6654,\n",
       " 15: 6512,\n",
       " 16: 5680,\n",
       " 17: 6487,\n",
       " 18: 6356,\n",
       " 19: 6211,\n",
       " 20: 6066,\n",
       " 21: 6164,\n",
       " 22: 6098,\n",
       " 23: 6283}"
      ]
     },
     "execution_count": 15,
     "metadata": {},
     "output_type": "execute_result"
    }
   ],
   "source": [
    "#Q12\n",
    "hr = {}\n",
    "for x in pd.to_datetime(df[\"time\"]):\n",
    "    if x.hour in hr:\n",
    "        hr[x.hour] += 1\n",
    "    else:\n",
    "        hr[x.hour] = 1\n",
    "        \n",
    "hr"
   ]
  },
  {
   "cell_type": "code",
   "execution_count": 16,
   "id": "c628b88a-2b2e-4fd8-82e6-56a85423dee2",
   "metadata": {
    "tags": []
   },
   "outputs": [
    {
     "data": {
      "image/svg+xml": [
       "<?xml version=\"1.0\" encoding=\"UTF-8\" standalone=\"no\"?>\n",
       "<!DOCTYPE svg PUBLIC \"-//W3C//DTD SVG 1.1//EN\"\n",
       " \"http://www.w3.org/Graphics/SVG/1.1/DTD/svg11.dtd\">\n",
       "<!-- Generated by graphviz version 2.43.0 (0)\n",
       " -->\n",
       "<!-- Title: %3 Pages: 1 -->\n",
       "<svg width=\"351pt\" height=\"116pt\"\n",
       " viewBox=\"0.00 0.00 350.54 116.00\" xmlns=\"http://www.w3.org/2000/svg\" xmlns:xlink=\"http://www.w3.org/1999/xlink\">\n",
       "<g id=\"graph0\" class=\"graph\" transform=\"scale(1 1) rotate(0) translate(4 112)\">\n",
       "<title>%3</title>\n",
       "<polygon fill=\"white\" stroke=\"transparent\" points=\"-4,4 -4,-112 346.54,-112 346.54,4 -4,4\"/>\n",
       "<!-- France -->\n",
       "<g id=\"node1\" class=\"node\">\n",
       "<title>France</title>\n",
       "<ellipse fill=\"none\" stroke=\"black\" cx=\"42.9\" cy=\"-90\" rx=\"42.79\" ry=\"18\"/>\n",
       "<text text-anchor=\"middle\" x=\"42.9\" y=\"-86.3\" font-family=\"Times,serif\" font-size=\"14.00\">France</text>\n",
       "</g>\n",
       "<!-- NJ -->\n",
       "<g id=\"node2\" class=\"node\">\n",
       "<title>NJ</title>\n",
       "<ellipse fill=\"none\" stroke=\"black\" cx=\"28.9\" cy=\"-18\" rx=\"27\" ry=\"18\"/>\n",
       "<text text-anchor=\"middle\" x=\"28.9\" y=\"-14.3\" font-family=\"Times,serif\" font-size=\"14.00\">NJ</text>\n",
       "</g>\n",
       "<!-- France&#45;&gt;NJ -->\n",
       "<g id=\"edge1\" class=\"edge\">\n",
       "<title>France&#45;&gt;NJ</title>\n",
       "<path fill=\"none\" stroke=\"black\" d=\"M39.51,-72.05C37.97,-64.35 36.1,-55.03 34.37,-46.36\"/>\n",
       "<polygon fill=\"black\" stroke=\"black\" points=\"37.74,-45.39 32.35,-36.28 30.88,-46.77 37.74,-45.39\"/>\n",
       "</g>\n",
       "<!-- CA -->\n",
       "<g id=\"node3\" class=\"node\">\n",
       "<title>CA</title>\n",
       "<ellipse fill=\"none\" stroke=\"black\" cx=\"100.9\" cy=\"-18\" rx=\"27\" ry=\"18\"/>\n",
       "<text text-anchor=\"middle\" x=\"100.9\" y=\"-14.3\" font-family=\"Times,serif\" font-size=\"14.00\">CA</text>\n",
       "</g>\n",
       "<!-- France&#45;&gt;CA -->\n",
       "<g id=\"edge2\" class=\"edge\">\n",
       "<title>France&#45;&gt;CA</title>\n",
       "<path fill=\"none\" stroke=\"black\" d=\"M56.35,-72.76C63.88,-63.68 73.39,-52.19 81.69,-42.18\"/>\n",
       "<polygon fill=\"black\" stroke=\"black\" points=\"84.63,-44.12 88.31,-34.19 79.24,-39.66 84.63,-44.12\"/>\n",
       "</g>\n",
       "<!-- Australia -->\n",
       "<g id=\"node4\" class=\"node\">\n",
       "<title>Australia</title>\n",
       "<ellipse fill=\"none\" stroke=\"black\" cx=\"289.9\" cy=\"-90\" rx=\"52.79\" ry=\"18\"/>\n",
       "<text text-anchor=\"middle\" x=\"289.9\" y=\"-86.3\" font-family=\"Times,serif\" font-size=\"14.00\">Australia</text>\n",
       "</g>\n",
       "<!-- NY -->\n",
       "<g id=\"node5\" class=\"node\">\n",
       "<title>NY</title>\n",
       "<ellipse fill=\"none\" stroke=\"black\" cx=\"289.9\" cy=\"-18\" rx=\"27\" ry=\"18\"/>\n",
       "<text text-anchor=\"middle\" x=\"289.9\" y=\"-14.3\" font-family=\"Times,serif\" font-size=\"14.00\">NY</text>\n",
       "</g>\n",
       "<!-- Australia&#45;&gt;NY -->\n",
       "<g id=\"edge3\" class=\"edge\">\n",
       "<title>Australia&#45;&gt;NY</title>\n",
       "<path fill=\"none\" stroke=\"black\" d=\"M289.9,-71.7C289.9,-63.98 289.9,-54.71 289.9,-46.11\"/>\n",
       "<polygon fill=\"black\" stroke=\"black\" points=\"293.4,-46.1 289.9,-36.1 286.4,-46.1 293.4,-46.1\"/>\n",
       "</g>\n",
       "<!-- Viet Nam -->\n",
       "<g id=\"node6\" class=\"node\">\n",
       "<title>Viet Nam</title>\n",
       "<ellipse fill=\"none\" stroke=\"black\" cx=\"164.9\" cy=\"-90\" rx=\"53.89\" ry=\"18\"/>\n",
       "<text text-anchor=\"middle\" x=\"164.9\" y=\"-86.3\" font-family=\"Times,serif\" font-size=\"14.00\">Viet Nam</text>\n",
       "</g>\n",
       "<!-- Viet Nam&#45;&gt;CA -->\n",
       "<g id=\"edge4\" class=\"edge\">\n",
       "<title>Viet Nam&#45;&gt;CA</title>\n",
       "<path fill=\"none\" stroke=\"black\" d=\"M149.73,-72.41C141.33,-63.22 130.77,-51.67 121.61,-41.66\"/>\n",
       "<polygon fill=\"black\" stroke=\"black\" points=\"123.98,-39.06 114.65,-34.04 118.81,-43.78 123.98,-39.06\"/>\n",
       "</g>\n",
       "<!-- VA -->\n",
       "<g id=\"node7\" class=\"node\">\n",
       "<title>VA</title>\n",
       "<ellipse fill=\"none\" stroke=\"black\" cx=\"172.9\" cy=\"-18\" rx=\"27\" ry=\"18\"/>\n",
       "<text text-anchor=\"middle\" x=\"172.9\" y=\"-14.3\" font-family=\"Times,serif\" font-size=\"14.00\">VA</text>\n",
       "</g>\n",
       "<!-- Viet Nam&#45;&gt;VA -->\n",
       "<g id=\"edge5\" class=\"edge\">\n",
       "<title>Viet Nam&#45;&gt;VA</title>\n",
       "<path fill=\"none\" stroke=\"black\" d=\"M166.87,-71.7C167.76,-63.98 168.81,-54.71 169.8,-46.11\"/>\n",
       "<polygon fill=\"black\" stroke=\"black\" points=\"173.28,-46.44 170.94,-36.1 166.33,-45.64 173.28,-46.44\"/>\n",
       "</g>\n",
       "</g>\n",
       "</svg>\n"
      ],
      "text/plain": [
       "<graphviz.graphs.Digraph at 0x7fe0cb8f7ac0>"
      ]
     },
     "execution_count": 16,
     "metadata": {},
     "output_type": "execute_result"
    }
   ],
   "source": [
    "#Q13\n",
    "g = Digraph(strict = True)\n",
    "countries = [\"Australia\", \"France\", \"Viet Nam\"]\n",
    "with zipfile.ZipFile(\"docs.zip\") as zf:\n",
    "    for x in range(len(df[\"ip\"])):\n",
    "        if edgar_utils.lookup_region(df[\"ip\"][x]) in countries:\n",
    "            url = str(int(df[\"cik\"][x])) + \"/\" + df[\"accession\"][x] + \"/\" + df[\"extention\"][x]\n",
    "            if url in zf.namelist():\n",
    "                with zf.open(url) as f:\n",
    "                    html = f.read().decode(\"utf-8\")\n",
    "                    \n",
    "                file = edgar_utils.Filing(html)\n",
    "                state = file.state()\n",
    "                if state != None:\n",
    "                    g.edge(edgar_utils.lookup_region(df[\"ip\"][x]), state)\n",
    "                    \n",
    "g"
   ]
  },
  {
   "cell_type": "code",
   "execution_count": 17,
   "id": "fcc56ba3-e421-40e4-b358-c787d2a6b99d",
   "metadata": {},
   "outputs": [
    {
     "data": {
      "text/plain": [
       "{'801 CHERRY STREET\\nSUITE 2100\\nFORT WORTH TX 76102': 720,\n",
       " '801 CHERRY STREET\\nSUITE 2100\\nFORT WORTH TX 76102\\n817-334-4100': 464,\n",
       " '1114 AVENUE OF THE AMERICAS\\n29TH FLOOR\\nNEW YORK NY 10036': 356,\n",
       " '1 SANSOME ST\\n30TH FL\\nSAN FRANCISCO CA 94104': 305,\n",
       " '1 SANSOME ST\\n30TH FL\\nSAN FRANCISCO CA 94104\\n3125066500': 264,\n",
       " '1251 AVENUE OF THE AMERICAS\\nNEW YORK NY 10020': 225,\n",
       " '1251 AVENUE OF THE AMERICAS\\nNEW YORK NY 10020\\n212-956-2221': 225,\n",
       " '1177 WEST HASTINGS STREET\\nSUITE 2300\\nVANCOUVER A1 V6E 2K3': 225,\n",
       " '1177 WEST HASTINGS STREET\\nSUITE 2300\\nVANCOUVER A1 V6E 2K3\\n604-683-6332': 225,\n",
       " '10119 W. LARIAT LANE\\nPEORIA AZ 85383': 289,\n",
       " '10119 W. LARIAT LANE\\nPEORIA AZ 85383\\n425-442-0931': 289,\n",
       " '1881 GROVE AVENUE\\nRADFORD VA 24141': 277}"
      ]
     },
     "execution_count": 17,
     "metadata": {},
     "output_type": "execute_result"
    }
   ],
   "source": [
    "#Q14\n",
    "d = {}\n",
    "with zipfile.ZipFile(\"docs.zip\") as zf:\n",
    "    for x in range(len(df[\"ip\"])):\n",
    "        url = str(int(df[\"cik\"][x])) + \"/\" + df[\"accession\"][x] + \"/\" + df[\"extention\"][x]\n",
    "        if url in zf.namelist():\n",
    "            with zf.open(url) as f:\n",
    "                html = f.read().decode(\"utf-8\")\n",
    "                \n",
    "            file = edgar_utils.Filing(html)\n",
    "            for i in file.addresses:\n",
    "                if i in d:\n",
    "                    d[i] += 1\n",
    "                else:\n",
    "                    d[i] = 1\n",
    "                    \n",
    "d = dict((k, v) for k, v in d.items() if v >= 225)\n",
    "d"
   ]
  },
  {
   "cell_type": "code",
   "execution_count": 18,
   "id": "ed48930c-4524-42c2-b6b1-3adfbb5c298a",
   "metadata": {},
   "outputs": [
    {
     "data": {
      "text/plain": [
       "<AxesSubplot:>"
      ]
     },
     "execution_count": 18,
     "metadata": {},
     "output_type": "execute_result"
    },
    {
     "data": {
      "image/png": "[encoded data removed]",
      "text/plain": [
       "<Figure size 640x480 with 2 Axes>"
      ]
     },
     "metadata": {},
     "output_type": "display_data"
    }
   ],
   "source": [
    "#Q15\n",
    "df_locations = gpd.read_file(\"locations.geojson\")\n",
    "b = box(-90, 20, -55, 50)\n",
    "new_loc = df_locations.intersection(b)\n",
    "df_locations = df_locations[~new_loc.is_empty].to_crs(\"epsg:2022\")\n",
    "\n",
    "zips = []\n",
    "for x in df_locations[\"address\"]:\n",
    "    z = re.findall(r\"[A-Z]{2} (\\d{5})\", x)\n",
    "    if len(z) > 0:\n",
    "        if re.findall(r\"^0\", z[0]):\n",
    "            z = int(z[0][1:])\n",
    "        else:\n",
    "            z = int(z[0])\n",
    "    else:\n",
    "        z = 0\n",
    "    if z < 20000 or z > 70000:\n",
    "        z = 0\n",
    "        \n",
    "    zips.append(z)\n",
    "        \n",
    "df_locations[\"zips\"] = zips\n",
    "df_locations = df_locations[df_locations[\"zips\"] != 0]\n",
    "\n",
    "usa = gpd.read_file(\"shapes/cb_2018_us_state_20m.shp\").intersection(b).to_crs(\"epsg:2022\")\n",
    "ax = usa.plot(color = \"lightgray\")\n",
    "df_locations.plot(column = \"zips\", legend = True, cmap = \"viridis\", ax = ax)"
   ]
  }
 ],
 "metadata": {
  "kernelspec": {
   "display_name": "Python 3 (ipykernel)",
   "language": "python",
   "name": "python3"
  },
  "language_info": {
   "codemirror_mode": {
    "name": "ipython",
    "version": 3
   },
   "file_extension": ".py",
   "mimetype": "text/x-python",
   "name": "python",
   "nbconvert_exporter": "python",
   "pygments_lexer": "ipython3",
   "version": "3.10.6"
  }
 },
 "nbformat": 4,
 "nbformat_minor": 5
}
