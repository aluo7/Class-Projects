{
  "nbformat": 4,
  "nbformat_minor": 0,
  "metadata": {
    "colab": {
      "provenance": []
    },
    "kernelspec": {
      "name": "python3",
      "display_name": "Python 3"
    },
    "language_info": {
      "name": "python"
    }
  },
  "cells": [
    {
      "cell_type": "code",
      "source": [
        "# NAME: Alan Luo\n",
        "# Assignment: NLA_2\n",
        "# Date: 09/07/2023\n",
        "# Section: LEC002"
      ],
      "metadata": {
        "id": "vQCKlKH63bFC"
      },
      "execution_count": null,
      "outputs": []
    },
    {
      "cell_type": "code",
      "execution_count": null,
      "metadata": {
        "id": "JEu3C3Vo227e"
      },
      "outputs": [],
      "source": [
        "import torch"
      ]
    },
    {
      "cell_type": "code",
      "source": [
        "A = torch.tensor([[1, 2], [-2, 1], [3, -1]], dtype=torch.float32)\n",
        "\n",
        "A"
      ],
      "metadata": {
        "colab": {
          "base_uri": "https://localhost:8080/"
        },
        "id": "Vzfyc2aw7eTu",
        "outputId": "ddd74ccb-3c7c-4dd5-d220-0b1d1d9022d6"
      },
      "execution_count": null,
      "outputs": [
        {
          "output_type": "execute_result",
          "data": {
            "text/plain": [
              "tensor([[ 1.,  2.],\n",
              "        [-2.,  1.],\n",
              "        [ 3., -1.]])"
            ]
          },
          "metadata": {},
          "execution_count": 3
        }
      ]
    },
    {
      "cell_type": "code",
      "source": [
        "# Question 1a\n",
        "rank = torch.linalg.matrix_rank(A)\n",
        "\n",
        "rank"
      ],
      "metadata": {
        "id": "f9hOY-C43I0d",
        "colab": {
          "base_uri": "https://localhost:8080/"
        },
        "outputId": "6bcc563e-5ac2-4009-a38c-59161d589ef5"
      },
      "execution_count": null,
      "outputs": [
        {
          "output_type": "execute_result",
          "data": {
            "text/plain": [
              "tensor(2)"
            ]
          },
          "metadata": {},
          "execution_count": 6
        }
      ]
    },
    {
      "cell_type": "code",
      "source": [
        "u, s, v = torch.svd(A)\n",
        "\n",
        "print(u)\n",
        "print(s)\n",
        "print(v)"
      ],
      "metadata": {
        "colab": {
          "base_uri": "https://localhost:8080/"
        },
        "id": "kweTaeOv_0aA",
        "outputId": "138dbeb5-a9e2-4ae5-c6ca-3a7634e2e324"
      },
      "execution_count": null,
      "outputs": [
        {
          "output_type": "stream",
          "name": "stdout",
          "text": [
            "tensor([[-8.1650e-02, -9.8995e-01],\n",
            "        [ 5.7155e-01, -1.4142e-01],\n",
            "        [-8.1650e-01, -2.9802e-08]])\n",
            "tensor([3.8730, 2.2361])\n",
            "tensor([[-0.9487, -0.3162],\n",
            "        [ 0.3162, -0.9487]])\n"
          ]
        }
      ]
    },
    {
      "cell_type": "code",
      "source": [
        "# Question 1b\n",
        "u, s, v = torch.svd(A)\n",
        "\n",
        "print(f'svd u val: {u}')\n",
        "print(f'svd s val: {s}')\n",
        "print(f'svd v val: {v}\\n')\n",
        "\n",
        "K = int(s.shape[0])\n",
        "\n",
        "print(f'K value: {K}\\n')\n",
        "\n",
        "u_i = []\n",
        "s_i = []\n",
        "v_i = []\n",
        "\n",
        "for i in range(K):\n",
        "  u_i.append(u[i])\n",
        "  s_i.append(s[i])\n",
        "  v_i.append(v[:, i])\n",
        "\n",
        "print(f'u values: {u_i}')\n",
        "print(f's values: {s_i}')\n",
        "print(f'v values: {v_i}\\n')\n",
        "\n",
        "S = torch.diag(s)\n",
        "\n",
        "print(f'u dims: {len(u)}x{len(u[0])}')\n",
        "print(f's dims: {len(S)}x{len(S[0])}')\n",
        "print(f'v dims: {len(v)}x{len(v[0])}')"
      ],
      "metadata": {
        "id": "Gh1T4hqG4yhW",
        "colab": {
          "base_uri": "https://localhost:8080/"
        },
        "outputId": "ae6eebbf-42dd-4ec9-94d5-c0b7fc7332dc"
      },
      "execution_count": null,
      "outputs": [
        {
          "output_type": "stream",
          "name": "stdout",
          "text": [
            "svd u val: tensor([[-8.1650e-02, -9.8995e-01],\n",
            "        [ 5.7155e-01, -1.4142e-01],\n",
            "        [-8.1650e-01, -2.9802e-08]])\n",
            "svd s val: tensor([3.8730, 2.2361])\n",
            "svd v val: tensor([[-0.9487, -0.3162],\n",
            "        [ 0.3162, -0.9487]])\n",
            "\n",
            "K value: 2\n",
            "\n",
            "u values: [tensor([-0.0816, -0.9899]), tensor([ 0.5715, -0.1414])]\n",
            "s values: [tensor(3.8730), tensor(2.2361)]\n",
            "v values: [tensor([-0.9487,  0.3162]), tensor([-0.3162, -0.9487])]\n",
            "\n",
            "u dims: 3x2\n",
            "s dims: 2x2\n",
            "v dims: 2x2\n"
          ]
        }
      ]
    },
    {
      "cell_type": "code",
      "source": [
        "# Question 1c\n",
        "B = torch.matmul(A, A.T)\n",
        "print(f'B Matrix: {B}\\n')\n",
        "\n",
        "l, v = torch.linalg.eig(B)\n",
        "\n",
        "print(f'svd l val: {l}')\n",
        "print(f'svd v val: {v}\\n')\n",
        "\n",
        "M = len(B)\n",
        "print(f'M value: {M}\\n')\n",
        "\n",
        "w_i = []\n",
        "l_i = []\n",
        "\n",
        "for i in range(M):\n",
        "  w_i.append(v[:, i])\n",
        "  l_i.append(l[i])\n",
        "\n",
        "print(f'w values: {w_i}')\n",
        "print(f'l values: {l_i}')"
      ],
      "metadata": {
        "colab": {
          "base_uri": "https://localhost:8080/"
        },
        "id": "_reWo0cH7gm5",
        "outputId": "0e0fdba3-c255-4c78-904a-53963866b299"
      },
      "execution_count": null,
      "outputs": [
        {
          "output_type": "stream",
          "name": "stdout",
          "text": [
            "B Matrix: tensor([[ 5.,  0.,  1.],\n",
            "        [ 0.,  5., -7.],\n",
            "        [ 1., -7., 10.]])\n",
            "\n",
            "svd l val: tensor([ 1.5000e+01+0.j,  5.0000e+00+0.j, -9.5980e-08+0.j])\n",
            "svd v val: tensor([[ 8.1650e-02+0.j,  9.8995e-01+0.j,  1.1547e-01+0.j],\n",
            "        [-5.7155e-01+0.j,  1.4142e-01+0.j, -8.0829e-01+0.j],\n",
            "        [ 8.1650e-01+0.j, -1.7136e-07+0.j, -5.7735e-01+0.j]])\n",
            "\n",
            "M value: 3\n",
            "\n",
            "w values: [tensor([ 0.0817+0.j, -0.5715+0.j,  0.8165+0.j]), tensor([ 9.8995e-01+0.j,  1.4142e-01+0.j, -1.7136e-07+0.j]), tensor([ 0.1155+0.j, -0.8083+0.j, -0.5774+0.j])]\n",
            "l values: [tensor(15.0000+0.j), tensor(5.+0.j), tensor(-9.5980e-08+0.j)]\n"
          ]
        }
      ]
    }
  ]
}